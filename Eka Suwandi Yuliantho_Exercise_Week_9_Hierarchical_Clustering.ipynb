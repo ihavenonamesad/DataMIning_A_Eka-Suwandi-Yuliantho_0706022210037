{
 "cells": [
  {
   "cell_type": "markdown",
   "metadata": {
    "id": "WwPdHlwOFBXS"
   },
   "source": [
    "## Exercise 2 : Clustering Method\n",
    "In this exercise we will explore how each clustering algorithm discussed in the class works."
   ]
  },
  {
   "cell_type": "markdown",
   "metadata": {
    "id": "7_llGj-cFj11"
   },
   "source": [
    "### Import Library"
   ]
  },
  {
   "cell_type": "markdown",
   "metadata": {
    "id": "Q93i8D5M3orJ"
   },
   "source": [
    "Import the necessary libraries"
   ]
  },
  {
   "cell_type": "code",
   "execution_count": 62,
   "metadata": {
    "colab": {
     "base_uri": "https://localhost:8080/"
    },
    "id": "InthM3ox1VA1",
    "outputId": "20cadf95-7423-4753-e269-2f7c3660b50b"
   },
   "outputs": [
    {
     "name": "stdout",
     "output_type": "stream",
     "text": [
      "Requirement already satisfied: kneed in c:\\users\\ekasu\\anaconda3\\lib\\site-packages (0.8.5)\n",
      "Requirement already satisfied: numpy>=1.14.2 in c:\\users\\ekasu\\anaconda3\\lib\\site-packages (from kneed) (1.24.3)\n",
      "Requirement already satisfied: scipy>=1.0.0 in c:\\users\\ekasu\\anaconda3\\lib\\site-packages (from kneed) (1.10.1)\n"
     ]
    }
   ],
   "source": [
    "!pip install kneed\n",
    "from kneed import KneeLocator\n",
    "import numpy as np\n",
    "import pandas as pd\n",
    "import seaborn as sns\n",
    "from sklearn.preprocessing import LabelEncoder, StandardScaler\n",
    "from matplotlib import pyplot as plt\n",
    "import scipy.cluster.hierarchy as sch\n",
    "from sklearn.cluster import AgglomerativeClustering, KMeans\n",
    "from scipy.cluster.hierarchy import fcluster, linkage, dendrogram\n",
    "from sklearn.metrics import davies_bouldin_score, silhouette_score\n",
    "from sklearn.impute import SimpleImputer\n",
    "import scipy.cluster.hierarchy as sch"
   ]
  },
  {
   "cell_type": "markdown",
   "metadata": {
    "id": "hJ_0lJcgFrHB"
   },
   "source": [
    "### Load Dataset\n",
    "The dataset that we will use is a **Property Dataset**. In this dataset there will be 11 features including: <br>\n",
    "- Area Category,\n",
    "- Luas Tanah (m2),\n",
    "- Luas Bangunan (m2),\n",
    "- Jumlah Kamar,\n",
    "- Jumlah Kamar Mandi,\n",
    "- Tingkat/Lantai,\n",
    "- Harga Penawaran (dari Owner),\n",
    "- Terjual/Belum,\n",
    "- Arah Hadap Rumah,\n",
    "- Posisi Rumah,\n",
    "- Lebar Jalan Depan Rumah (ROW). <br>\n",
    "\n",
    "You can get the dataset from **Elearn**"
   ]
  },
  {
   "cell_type": "markdown",
   "metadata": {
    "id": "5kQApGMa30nv"
   },
   "source": [
    "Load dataset"
   ]
  },
  {
   "cell_type": "code",
   "execution_count": 63,
   "metadata": {
    "colab": {
     "base_uri": "https://localhost:8080/",
     "height": 292
    },
    "id": "RSXKxZMJ32tQ",
    "outputId": "7b4e5a37-0b47-4325-84b6-8a21f4f44336"
   },
   "outputs": [
    {
     "data": {
      "text/html": [
       "<div>\n",
       "<style scoped>\n",
       "    .dataframe tbody tr th:only-of-type {\n",
       "        vertical-align: middle;\n",
       "    }\n",
       "\n",
       "    .dataframe tbody tr th {\n",
       "        vertical-align: top;\n",
       "    }\n",
       "\n",
       "    .dataframe thead th {\n",
       "        text-align: right;\n",
       "    }\n",
       "</style>\n",
       "<table border=\"1\" class=\"dataframe\">\n",
       "  <thead>\n",
       "    <tr style=\"text-align: right;\">\n",
       "      <th></th>\n",
       "      <th>Area Category</th>\n",
       "      <th>Nama Daerah</th>\n",
       "      <th>Luas Tanah (m2)</th>\n",
       "      <th>Luas Bangunan (m2)</th>\n",
       "      <th>Jumlah Kamar</th>\n",
       "      <th>Jumlah Kamar Mandi</th>\n",
       "      <th>Tingkat/Lantai</th>\n",
       "      <th>Harga Penawaran (dari Owner)</th>\n",
       "      <th>Terjual/Belum</th>\n",
       "      <th>Arah Hadap Rumah</th>\n",
       "      <th>Posisi Rumah</th>\n",
       "      <th>Lebar Jalan Depan Rumah (ROW)</th>\n",
       "    </tr>\n",
       "  </thead>\n",
       "  <tbody>\n",
       "    <tr>\n",
       "      <th>0</th>\n",
       "      <td>NaN</td>\n",
       "      <td>NaN</td>\n",
       "      <td>NaN</td>\n",
       "      <td>NaN</td>\n",
       "      <td>NaN</td>\n",
       "      <td>NaN</td>\n",
       "      <td>NaN</td>\n",
       "      <td>NaN</td>\n",
       "      <td>NaN</td>\n",
       "      <td>NaN</td>\n",
       "      <td>NaN</td>\n",
       "      <td>NaN</td>\n",
       "    </tr>\n",
       "    <tr>\n",
       "      <th>1</th>\n",
       "      <td>Below Standard</td>\n",
       "      <td>Setro Baru Utara</td>\n",
       "      <td>30.0</td>\n",
       "      <td>60.0</td>\n",
       "      <td>2.0</td>\n",
       "      <td>1.0</td>\n",
       "      <td>2.0</td>\n",
       "      <td>287799000</td>\n",
       "      <td>Belum</td>\n",
       "      <td>NaN</td>\n",
       "      <td>Standard</td>\n",
       "      <td>&lt; 1 Mobil</td>\n",
       "    </tr>\n",
       "    <tr>\n",
       "      <th>2</th>\n",
       "      <td>Standard</td>\n",
       "      <td>Kenjeran</td>\n",
       "      <td>170.0</td>\n",
       "      <td>170.0</td>\n",
       "      <td>5.0</td>\n",
       "      <td>4.0</td>\n",
       "      <td>2.0</td>\n",
       "      <td>2699999999</td>\n",
       "      <td>Belum</td>\n",
       "      <td>Selatan</td>\n",
       "      <td>Cul De Sac/Ujung Gang Buntu</td>\n",
       "      <td>1-2 Mobil</td>\n",
       "    </tr>\n",
       "    <tr>\n",
       "      <th>3</th>\n",
       "      <td>Sangat Premium</td>\n",
       "      <td>Kenjeran</td>\n",
       "      <td>187.0</td>\n",
       "      <td>250.0</td>\n",
       "      <td>5.0</td>\n",
       "      <td>5.0</td>\n",
       "      <td>2.0</td>\n",
       "      <td>3100000000</td>\n",
       "      <td>Belum</td>\n",
       "      <td>Utara</td>\n",
       "      <td>Standard</td>\n",
       "      <td>1-2 Mobil</td>\n",
       "    </tr>\n",
       "    <tr>\n",
       "      <th>4</th>\n",
       "      <td>Premium</td>\n",
       "      <td>Kenjeran</td>\n",
       "      <td>350.0</td>\n",
       "      <td>600.0</td>\n",
       "      <td>5.0</td>\n",
       "      <td>5.0</td>\n",
       "      <td>2.0</td>\n",
       "      <td>5000000000</td>\n",
       "      <td>Belum</td>\n",
       "      <td>Barat</td>\n",
       "      <td>Standard</td>\n",
       "      <td>1-2 Mobil</td>\n",
       "    </tr>\n",
       "  </tbody>\n",
       "</table>\n",
       "</div>"
      ],
      "text/plain": [
       "    Area Category       Nama Daerah  Luas Tanah (m2)  Luas Bangunan (m2)  \\\n",
       "0             NaN               NaN              NaN                 NaN   \n",
       "1  Below Standard  Setro Baru Utara             30.0                60.0   \n",
       "2        Standard          Kenjeran            170.0               170.0   \n",
       "3  Sangat Premium          Kenjeran            187.0               250.0   \n",
       "4         Premium          Kenjeran            350.0               600.0   \n",
       "\n",
       "   Jumlah Kamar  Jumlah Kamar Mandi  Tingkat/Lantai   \\\n",
       "0           NaN                 NaN              NaN   \n",
       "1           2.0                 1.0              2.0   \n",
       "2           5.0                 4.0              2.0   \n",
       "3           5.0                 5.0              2.0   \n",
       "4           5.0                 5.0              2.0   \n",
       "\n",
       "  Harga Penawaran (dari Owner) Terjual/Belum Arah Hadap Rumah  \\\n",
       "0                          NaN           NaN              NaN   \n",
       "1                    287799000         Belum              NaN   \n",
       "2                   2699999999         Belum          Selatan   \n",
       "3                   3100000000         Belum            Utara   \n",
       "4                   5000000000         Belum            Barat   \n",
       "\n",
       "                  Posisi Rumah Lebar Jalan Depan Rumah (ROW)  \n",
       "0                          NaN                           NaN  \n",
       "1                     Standard                     < 1 Mobil  \n",
       "2  Cul De Sac/Ujung Gang Buntu                     1-2 Mobil  \n",
       "3                     Standard                     1-2 Mobil  \n",
       "4                     Standard                     1-2 Mobil  "
      ]
     },
     "execution_count": 63,
     "metadata": {},
     "output_type": "execute_result"
    }
   ],
   "source": [
    "df = pd.read_csv('https://raw.githubusercontent.com/ihavenonamesad/W9_Property_Dataset/refs/heads/main/property_dataset.csv', delimiter=\",\")\n",
    "\n",
    "df.head(5)"
   ]
  },
  {
   "cell_type": "code",
   "execution_count": 64,
   "metadata": {
    "colab": {
     "base_uri": "https://localhost:8080/",
     "height": 300
    },
    "id": "REIB_55O6dWa",
    "outputId": "6447aee3-a4a4-4af9-f7e8-a67f814636f7"
   },
   "outputs": [
    {
     "data": {
      "text/html": [
       "<div>\n",
       "<style scoped>\n",
       "    .dataframe tbody tr th:only-of-type {\n",
       "        vertical-align: middle;\n",
       "    }\n",
       "\n",
       "    .dataframe tbody tr th {\n",
       "        vertical-align: top;\n",
       "    }\n",
       "\n",
       "    .dataframe thead th {\n",
       "        text-align: right;\n",
       "    }\n",
       "</style>\n",
       "<table border=\"1\" class=\"dataframe\">\n",
       "  <thead>\n",
       "    <tr style=\"text-align: right;\">\n",
       "      <th></th>\n",
       "      <th>Luas Tanah (m2)</th>\n",
       "      <th>Luas Bangunan (m2)</th>\n",
       "      <th>Jumlah Kamar</th>\n",
       "      <th>Jumlah Kamar Mandi</th>\n",
       "      <th>Tingkat/Lantai</th>\n",
       "    </tr>\n",
       "  </thead>\n",
       "  <tbody>\n",
       "    <tr>\n",
       "      <th>count</th>\n",
       "      <td>307.000000</td>\n",
       "      <td>307.000000</td>\n",
       "      <td>307.000000</td>\n",
       "      <td>306.000000</td>\n",
       "      <td>306.000000</td>\n",
       "    </tr>\n",
       "    <tr>\n",
       "      <th>mean</th>\n",
       "      <td>226.908795</td>\n",
       "      <td>266.579805</td>\n",
       "      <td>4.276873</td>\n",
       "      <td>3.339869</td>\n",
       "      <td>1.856209</td>\n",
       "    </tr>\n",
       "    <tr>\n",
       "      <th>std</th>\n",
       "      <td>202.149571</td>\n",
       "      <td>213.501196</td>\n",
       "      <td>1.646412</td>\n",
       "      <td>1.632311</td>\n",
       "      <td>0.512702</td>\n",
       "    </tr>\n",
       "    <tr>\n",
       "      <th>min</th>\n",
       "      <td>14.000000</td>\n",
       "      <td>14.000000</td>\n",
       "      <td>1.000000</td>\n",
       "      <td>1.000000</td>\n",
       "      <td>1.000000</td>\n",
       "    </tr>\n",
       "    <tr>\n",
       "      <th>25%</th>\n",
       "      <td>96.000000</td>\n",
       "      <td>120.000000</td>\n",
       "      <td>3.000000</td>\n",
       "      <td>2.000000</td>\n",
       "      <td>2.000000</td>\n",
       "    </tr>\n",
       "    <tr>\n",
       "      <th>50%</th>\n",
       "      <td>162.000000</td>\n",
       "      <td>200.000000</td>\n",
       "      <td>4.000000</td>\n",
       "      <td>3.000000</td>\n",
       "      <td>2.000000</td>\n",
       "    </tr>\n",
       "    <tr>\n",
       "      <th>75%</th>\n",
       "      <td>286.000000</td>\n",
       "      <td>332.500000</td>\n",
       "      <td>5.000000</td>\n",
       "      <td>4.000000</td>\n",
       "      <td>2.000000</td>\n",
       "    </tr>\n",
       "    <tr>\n",
       "      <th>max</th>\n",
       "      <td>1561.000000</td>\n",
       "      <td>1200.000000</td>\n",
       "      <td>13.000000</td>\n",
       "      <td>13.000000</td>\n",
       "      <td>4.000000</td>\n",
       "    </tr>\n",
       "  </tbody>\n",
       "</table>\n",
       "</div>"
      ],
      "text/plain": [
       "       Luas Tanah (m2)  Luas Bangunan (m2)  Jumlah Kamar  Jumlah Kamar Mandi  \\\n",
       "count       307.000000          307.000000    307.000000          306.000000   \n",
       "mean        226.908795          266.579805      4.276873            3.339869   \n",
       "std         202.149571          213.501196      1.646412            1.632311   \n",
       "min          14.000000           14.000000      1.000000            1.000000   \n",
       "25%          96.000000          120.000000      3.000000            2.000000   \n",
       "50%         162.000000          200.000000      4.000000            3.000000   \n",
       "75%         286.000000          332.500000      5.000000            4.000000   \n",
       "max        1561.000000         1200.000000     13.000000           13.000000   \n",
       "\n",
       "       Tingkat/Lantai   \n",
       "count       306.000000  \n",
       "mean          1.856209  \n",
       "std           0.512702  \n",
       "min           1.000000  \n",
       "25%           2.000000  \n",
       "50%           2.000000  \n",
       "75%           2.000000  \n",
       "max           4.000000  "
      ]
     },
     "execution_count": 64,
     "metadata": {},
     "output_type": "execute_result"
    }
   ],
   "source": [
    "df.describe()"
   ]
  },
  {
   "cell_type": "code",
   "execution_count": 4,
   "metadata": {
    "colab": {
     "base_uri": "https://localhost:8080/"
    },
    "id": "4qGn83IJAK1V",
    "outputId": "1dfa653f-f37d-4ae6-e738-99f65da4dd03"
   },
   "outputs": [
    {
     "name": "stdout",
     "output_type": "stream",
     "text": [
      "<class 'pandas.core.frame.DataFrame'>\n",
      "RangeIndex: 308 entries, 0 to 307\n",
      "Data columns (total 12 columns):\n",
      " #   Column                         Non-Null Count  Dtype  \n",
      "---  ------                         --------------  -----  \n",
      " 0   Area Category                  307 non-null    object \n",
      " 1   Nama Daerah                    307 non-null    object \n",
      " 2   Luas Tanah (m2)                307 non-null    float64\n",
      " 3   Luas Bangunan (m2)             307 non-null    float64\n",
      " 4   Jumlah Kamar                   307 non-null    float64\n",
      " 5   Jumlah Kamar Mandi             306 non-null    float64\n",
      " 6   Tingkat/Lantai                 306 non-null    float64\n",
      " 7   Harga Penawaran (dari Owner)   307 non-null    object \n",
      " 8   Terjual/Belum                  307 non-null    object \n",
      " 9   Arah Hadap Rumah               225 non-null    object \n",
      " 10  Posisi Rumah                   192 non-null    object \n",
      " 11  Lebar Jalan Depan Rumah (ROW)  266 non-null    object \n",
      "dtypes: float64(5), object(7)\n",
      "memory usage: 29.0+ KB\n"
     ]
    }
   ],
   "source": [
    "df.info()"
   ]
  },
  {
   "cell_type": "markdown",
   "metadata": {
    "id": "wLpmamec9jig"
   },
   "source": [
    "Data Preparation\n",
    "\n",
    "1. Check if there are any missing values in the data.\n",
    "2. Check the percentage of null values.\n",
    "3. Perform label encoding.\n",
    "4. Apply feature scaling to the data."
   ]
  },
  {
   "cell_type": "markdown",
   "metadata": {
    "id": "Q4p9ra1JRDdn"
   },
   "source": [
    "1."
   ]
  },
  {
   "cell_type": "code",
   "execution_count": 65,
   "metadata": {
    "colab": {
     "base_uri": "https://localhost:8080/",
     "height": 460
    },
    "id": "fAfk6XsgLeVl",
    "outputId": "5d0ef7eb-385a-41d7-e953-4f9a346d04c9"
   },
   "outputs": [
    {
     "data": {
      "text/plain": [
       "Area Category                      1\n",
       "Nama Daerah                        1\n",
       "Luas Tanah (m2)                    1\n",
       "Luas Bangunan (m2)                 1\n",
       "Jumlah Kamar                       1\n",
       "Jumlah Kamar Mandi                 2\n",
       "Tingkat/Lantai                     2\n",
       "Harga Penawaran (dari Owner)       1\n",
       "Terjual/Belum                      1\n",
       "Arah Hadap Rumah                  83\n",
       "Posisi Rumah                     116\n",
       "Lebar Jalan Depan Rumah (ROW)     42\n",
       "dtype: int64"
      ]
     },
     "execution_count": 65,
     "metadata": {},
     "output_type": "execute_result"
    }
   ],
   "source": [
    "df.isna().sum()"
   ]
  },
  {
   "cell_type": "markdown",
   "metadata": {
    "id": "TML3jiamRF_U"
   },
   "source": [
    "2."
   ]
  },
  {
   "cell_type": "code",
   "execution_count": 6,
   "metadata": {
    "colab": {
     "base_uri": "https://localhost:8080/",
     "height": 460
    },
    "id": "pRvFgzknOwNZ",
    "outputId": "bcf3e2ee-f425-4f97-9703-ce4d76f68667"
   },
   "outputs": [
    {
     "data": {
      "text/plain": [
       "Area Category                     0.324675\n",
       "Nama Daerah                       0.324675\n",
       "Luas Tanah (m2)                   0.324675\n",
       "Luas Bangunan (m2)                0.324675\n",
       "Jumlah Kamar                      0.324675\n",
       "Jumlah Kamar Mandi                0.649351\n",
       "Tingkat/Lantai                    0.649351\n",
       "Harga Penawaran (dari Owner)      0.324675\n",
       "Terjual/Belum                     0.324675\n",
       "Arah Hadap Rumah                 26.948052\n",
       "Posisi Rumah                     37.662338\n",
       "Lebar Jalan Depan Rumah (ROW)    13.636364\n",
       "dtype: float64"
      ]
     },
     "execution_count": 6,
     "metadata": {},
     "output_type": "execute_result"
    }
   ],
   "source": [
    "(df.isna().sum()/len(df))*100"
   ]
  },
  {
   "cell_type": "markdown",
   "metadata": {
    "id": "-KzjgP9fAzBk"
   },
   "source": [
    "Since there are too many nulls but not up to 50%, it’s better to fill them in using SimpleImputer with the strategy set to 'most_frequent'"
   ]
  },
  {
   "cell_type": "code",
   "execution_count": 90,
   "metadata": {
    "colab": {
     "base_uri": "https://localhost:8080/",
     "height": 292
    },
    "id": "pG9CYi3C7Iq9",
    "outputId": "7d071b8a-0c8f-4c4c-ac54-214f447c8a6c"
   },
   "outputs": [
    {
     "data": {
      "text/html": [
       "<div>\n",
       "<style scoped>\n",
       "    .dataframe tbody tr th:only-of-type {\n",
       "        vertical-align: middle;\n",
       "    }\n",
       "\n",
       "    .dataframe tbody tr th {\n",
       "        vertical-align: top;\n",
       "    }\n",
       "\n",
       "    .dataframe thead th {\n",
       "        text-align: right;\n",
       "    }\n",
       "</style>\n",
       "<table border=\"1\" class=\"dataframe\">\n",
       "  <thead>\n",
       "    <tr style=\"text-align: right;\">\n",
       "      <th></th>\n",
       "      <th>Area Category</th>\n",
       "      <th>Nama Daerah</th>\n",
       "      <th>Luas Tanah (m2)</th>\n",
       "      <th>Luas Bangunan (m2)</th>\n",
       "      <th>Jumlah Kamar</th>\n",
       "      <th>Jumlah Kamar Mandi</th>\n",
       "      <th>Tingkat/Lantai</th>\n",
       "      <th>Harga Penawaran (dari Owner)</th>\n",
       "      <th>Terjual/Belum</th>\n",
       "      <th>Arah Hadap Rumah</th>\n",
       "      <th>Posisi Rumah</th>\n",
       "      <th>Lebar Jalan Depan Rumah (ROW)</th>\n",
       "    </tr>\n",
       "  </thead>\n",
       "  <tbody>\n",
       "    <tr>\n",
       "      <th>0</th>\n",
       "      <td>Standard</td>\n",
       "      <td>Citraland</td>\n",
       "      <td>240.0</td>\n",
       "      <td>300.0</td>\n",
       "      <td>4.0</td>\n",
       "      <td>3.0</td>\n",
       "      <td>2.0</td>\n",
       "      <td>3500000000</td>\n",
       "      <td>Belum</td>\n",
       "      <td>Utara</td>\n",
       "      <td>Standard</td>\n",
       "      <td>1-2 Mobil</td>\n",
       "    </tr>\n",
       "    <tr>\n",
       "      <th>1</th>\n",
       "      <td>Below Standard</td>\n",
       "      <td>Setro Baru Utara</td>\n",
       "      <td>30.0</td>\n",
       "      <td>60.0</td>\n",
       "      <td>2.0</td>\n",
       "      <td>1.0</td>\n",
       "      <td>2.0</td>\n",
       "      <td>287799000</td>\n",
       "      <td>Belum</td>\n",
       "      <td>Utara</td>\n",
       "      <td>Standard</td>\n",
       "      <td>&lt; 1 Mobil</td>\n",
       "    </tr>\n",
       "    <tr>\n",
       "      <th>2</th>\n",
       "      <td>Standard</td>\n",
       "      <td>Kenjeran</td>\n",
       "      <td>170.0</td>\n",
       "      <td>170.0</td>\n",
       "      <td>5.0</td>\n",
       "      <td>4.0</td>\n",
       "      <td>2.0</td>\n",
       "      <td>2699999999</td>\n",
       "      <td>Belum</td>\n",
       "      <td>Selatan</td>\n",
       "      <td>Cul De Sac/Ujung Gang Buntu</td>\n",
       "      <td>1-2 Mobil</td>\n",
       "    </tr>\n",
       "    <tr>\n",
       "      <th>3</th>\n",
       "      <td>Sangat Premium</td>\n",
       "      <td>Kenjeran</td>\n",
       "      <td>187.0</td>\n",
       "      <td>250.0</td>\n",
       "      <td>5.0</td>\n",
       "      <td>5.0</td>\n",
       "      <td>2.0</td>\n",
       "      <td>3100000000</td>\n",
       "      <td>Belum</td>\n",
       "      <td>Utara</td>\n",
       "      <td>Standard</td>\n",
       "      <td>1-2 Mobil</td>\n",
       "    </tr>\n",
       "    <tr>\n",
       "      <th>4</th>\n",
       "      <td>Premium</td>\n",
       "      <td>Kenjeran</td>\n",
       "      <td>350.0</td>\n",
       "      <td>600.0</td>\n",
       "      <td>5.0</td>\n",
       "      <td>5.0</td>\n",
       "      <td>2.0</td>\n",
       "      <td>5000000000</td>\n",
       "      <td>Belum</td>\n",
       "      <td>Barat</td>\n",
       "      <td>Standard</td>\n",
       "      <td>1-2 Mobil</td>\n",
       "    </tr>\n",
       "  </tbody>\n",
       "</table>\n",
       "</div>"
      ],
      "text/plain": [
       "    Area Category       Nama Daerah Luas Tanah (m2) Luas Bangunan (m2)  \\\n",
       "0        Standard         Citraland           240.0              300.0   \n",
       "1  Below Standard  Setro Baru Utara            30.0               60.0   \n",
       "2        Standard          Kenjeran           170.0              170.0   \n",
       "3  Sangat Premium          Kenjeran           187.0              250.0   \n",
       "4         Premium          Kenjeran           350.0              600.0   \n",
       "\n",
       "  Jumlah Kamar Jumlah Kamar Mandi Tingkat/Lantai   \\\n",
       "0          4.0                3.0             2.0   \n",
       "1          2.0                1.0             2.0   \n",
       "2          5.0                4.0             2.0   \n",
       "3          5.0                5.0             2.0   \n",
       "4          5.0                5.0             2.0   \n",
       "\n",
       "  Harga Penawaran (dari Owner) Terjual/Belum Arah Hadap Rumah  \\\n",
       "0                   3500000000         Belum            Utara   \n",
       "1                    287799000         Belum            Utara   \n",
       "2                   2699999999         Belum          Selatan   \n",
       "3                   3100000000         Belum            Utara   \n",
       "4                   5000000000         Belum            Barat   \n",
       "\n",
       "                  Posisi Rumah Lebar Jalan Depan Rumah (ROW)  \n",
       "0                     Standard                     1-2 Mobil  \n",
       "1                     Standard                     < 1 Mobil  \n",
       "2  Cul De Sac/Ujung Gang Buntu                     1-2 Mobil  \n",
       "3                     Standard                     1-2 Mobil  \n",
       "4                     Standard                     1-2 Mobil  "
      ]
     },
     "execution_count": 90,
     "metadata": {},
     "output_type": "execute_result"
    }
   ],
   "source": [
    "imputer = SimpleImputer(strategy='most_frequent')\n",
    "df_imputed = pd.DataFrame(imputer.fit_transform(df), columns=df.columns)\n",
    "df_imputed.head(5)"
   ]
  },
  {
   "cell_type": "code",
   "execution_count": 91,
   "metadata": {
    "colab": {
     "base_uri": "https://localhost:8080/",
     "height": 460
    },
    "id": "P39tcuz77l4m",
    "outputId": "c16e0e34-6bdf-405c-e4f4-eb5f8d6d70ad"
   },
   "outputs": [
    {
     "data": {
      "text/plain": [
       "Area Category                    0\n",
       "Nama Daerah                      0\n",
       "Luas Tanah (m2)                  0\n",
       "Luas Bangunan (m2)               0\n",
       "Jumlah Kamar                     0\n",
       "Jumlah Kamar Mandi               0\n",
       "Tingkat/Lantai                   0\n",
       "Harga Penawaran (dari Owner)     0\n",
       "Terjual/Belum                    0\n",
       "Arah Hadap Rumah                 0\n",
       "Posisi Rumah                     0\n",
       "Lebar Jalan Depan Rumah (ROW)    0\n",
       "dtype: int64"
      ]
     },
     "execution_count": 91,
     "metadata": {},
     "output_type": "execute_result"
    }
   ],
   "source": [
    "df_imputed.isna().sum()"
   ]
  },
  {
   "cell_type": "markdown",
   "metadata": {
    "id": "bX3c5v9bCx67"
   },
   "source": [
    "Drop the column 'Nama Daerah' because all the values are different."
   ]
  },
  {
   "cell_type": "code",
   "execution_count": 92,
   "metadata": {
    "colab": {
     "base_uri": "https://localhost:8080/",
     "height": 275
    },
    "id": "XBrU-DGYCkND",
    "outputId": "c45fc228-4a77-4a1a-a3e0-478b8c6faa2b"
   },
   "outputs": [
    {
     "data": {
      "text/html": [
       "<div>\n",
       "<style scoped>\n",
       "    .dataframe tbody tr th:only-of-type {\n",
       "        vertical-align: middle;\n",
       "    }\n",
       "\n",
       "    .dataframe tbody tr th {\n",
       "        vertical-align: top;\n",
       "    }\n",
       "\n",
       "    .dataframe thead th {\n",
       "        text-align: right;\n",
       "    }\n",
       "</style>\n",
       "<table border=\"1\" class=\"dataframe\">\n",
       "  <thead>\n",
       "    <tr style=\"text-align: right;\">\n",
       "      <th></th>\n",
       "      <th>Area Category</th>\n",
       "      <th>Luas Tanah (m2)</th>\n",
       "      <th>Luas Bangunan (m2)</th>\n",
       "      <th>Jumlah Kamar</th>\n",
       "      <th>Jumlah Kamar Mandi</th>\n",
       "      <th>Tingkat/Lantai</th>\n",
       "      <th>Harga Penawaran (dari Owner)</th>\n",
       "      <th>Terjual/Belum</th>\n",
       "      <th>Arah Hadap Rumah</th>\n",
       "      <th>Posisi Rumah</th>\n",
       "      <th>Lebar Jalan Depan Rumah (ROW)</th>\n",
       "    </tr>\n",
       "  </thead>\n",
       "  <tbody>\n",
       "    <tr>\n",
       "      <th>0</th>\n",
       "      <td>Standard</td>\n",
       "      <td>240.0</td>\n",
       "      <td>300.0</td>\n",
       "      <td>4.0</td>\n",
       "      <td>3.0</td>\n",
       "      <td>2.0</td>\n",
       "      <td>3500000000</td>\n",
       "      <td>Belum</td>\n",
       "      <td>Utara</td>\n",
       "      <td>Standard</td>\n",
       "      <td>1-2 Mobil</td>\n",
       "    </tr>\n",
       "    <tr>\n",
       "      <th>1</th>\n",
       "      <td>Below Standard</td>\n",
       "      <td>30.0</td>\n",
       "      <td>60.0</td>\n",
       "      <td>2.0</td>\n",
       "      <td>1.0</td>\n",
       "      <td>2.0</td>\n",
       "      <td>287799000</td>\n",
       "      <td>Belum</td>\n",
       "      <td>Utara</td>\n",
       "      <td>Standard</td>\n",
       "      <td>&lt; 1 Mobil</td>\n",
       "    </tr>\n",
       "    <tr>\n",
       "      <th>2</th>\n",
       "      <td>Standard</td>\n",
       "      <td>170.0</td>\n",
       "      <td>170.0</td>\n",
       "      <td>5.0</td>\n",
       "      <td>4.0</td>\n",
       "      <td>2.0</td>\n",
       "      <td>2699999999</td>\n",
       "      <td>Belum</td>\n",
       "      <td>Selatan</td>\n",
       "      <td>Cul De Sac/Ujung Gang Buntu</td>\n",
       "      <td>1-2 Mobil</td>\n",
       "    </tr>\n",
       "    <tr>\n",
       "      <th>3</th>\n",
       "      <td>Sangat Premium</td>\n",
       "      <td>187.0</td>\n",
       "      <td>250.0</td>\n",
       "      <td>5.0</td>\n",
       "      <td>5.0</td>\n",
       "      <td>2.0</td>\n",
       "      <td>3100000000</td>\n",
       "      <td>Belum</td>\n",
       "      <td>Utara</td>\n",
       "      <td>Standard</td>\n",
       "      <td>1-2 Mobil</td>\n",
       "    </tr>\n",
       "    <tr>\n",
       "      <th>4</th>\n",
       "      <td>Premium</td>\n",
       "      <td>350.0</td>\n",
       "      <td>600.0</td>\n",
       "      <td>5.0</td>\n",
       "      <td>5.0</td>\n",
       "      <td>2.0</td>\n",
       "      <td>5000000000</td>\n",
       "      <td>Belum</td>\n",
       "      <td>Barat</td>\n",
       "      <td>Standard</td>\n",
       "      <td>1-2 Mobil</td>\n",
       "    </tr>\n",
       "  </tbody>\n",
       "</table>\n",
       "</div>"
      ],
      "text/plain": [
       "    Area Category Luas Tanah (m2) Luas Bangunan (m2) Jumlah Kamar  \\\n",
       "0        Standard           240.0              300.0          4.0   \n",
       "1  Below Standard            30.0               60.0          2.0   \n",
       "2        Standard           170.0              170.0          5.0   \n",
       "3  Sangat Premium           187.0              250.0          5.0   \n",
       "4         Premium           350.0              600.0          5.0   \n",
       "\n",
       "  Jumlah Kamar Mandi Tingkat/Lantai  Harga Penawaran (dari Owner)  \\\n",
       "0                3.0             2.0                   3500000000   \n",
       "1                1.0             2.0                    287799000   \n",
       "2                4.0             2.0                   2699999999   \n",
       "3                5.0             2.0                   3100000000   \n",
       "4                5.0             2.0                   5000000000   \n",
       "\n",
       "  Terjual/Belum Arah Hadap Rumah                 Posisi Rumah  \\\n",
       "0         Belum            Utara                     Standard   \n",
       "1         Belum            Utara                     Standard   \n",
       "2         Belum          Selatan  Cul De Sac/Ujung Gang Buntu   \n",
       "3         Belum            Utara                     Standard   \n",
       "4         Belum            Barat                     Standard   \n",
       "\n",
       "  Lebar Jalan Depan Rumah (ROW)  \n",
       "0                     1-2 Mobil  \n",
       "1                     < 1 Mobil  \n",
       "2                     1-2 Mobil  \n",
       "3                     1-2 Mobil  \n",
       "4                     1-2 Mobil  "
      ]
     },
     "execution_count": 92,
     "metadata": {},
     "output_type": "execute_result"
    }
   ],
   "source": [
    "df_imputed = df_imputed.drop('Nama Daerah', axis=1) \n",
    "df_imputed.head(5)"
   ]
  },
  {
   "cell_type": "markdown",
   "metadata": {
    "id": "2oKqWt9qRLrF"
   },
   "source": [
    "3."
   ]
  },
  {
   "cell_type": "code",
   "execution_count": 93,
   "metadata": {
    "colab": {
     "base_uri": "https://localhost:8080/",
     "height": 223
    },
    "id": "Nmk3tKEP7qXn",
    "outputId": "e0aad92d-b22b-4001-8437-36610b99d919"
   },
   "outputs": [
    {
     "data": {
      "text/html": [
       "<div>\n",
       "<style scoped>\n",
       "    .dataframe tbody tr th:only-of-type {\n",
       "        vertical-align: middle;\n",
       "    }\n",
       "\n",
       "    .dataframe tbody tr th {\n",
       "        vertical-align: top;\n",
       "    }\n",
       "\n",
       "    .dataframe thead th {\n",
       "        text-align: right;\n",
       "    }\n",
       "</style>\n",
       "<table border=\"1\" class=\"dataframe\">\n",
       "  <thead>\n",
       "    <tr style=\"text-align: right;\">\n",
       "      <th></th>\n",
       "      <th>Area Category</th>\n",
       "      <th>Luas Tanah (m2)</th>\n",
       "      <th>Luas Bangunan (m2)</th>\n",
       "      <th>Jumlah Kamar</th>\n",
       "      <th>Jumlah Kamar Mandi</th>\n",
       "      <th>Tingkat/Lantai</th>\n",
       "      <th>Harga Penawaran (dari Owner)</th>\n",
       "      <th>Terjual/Belum</th>\n",
       "      <th>Arah Hadap Rumah</th>\n",
       "      <th>Posisi Rumah</th>\n",
       "      <th>Lebar Jalan Depan Rumah (ROW)</th>\n",
       "    </tr>\n",
       "  </thead>\n",
       "  <tbody>\n",
       "    <tr>\n",
       "      <th>0</th>\n",
       "      <td>3</td>\n",
       "      <td>240.0</td>\n",
       "      <td>300.0</td>\n",
       "      <td>4.0</td>\n",
       "      <td>3.0</td>\n",
       "      <td>2.0</td>\n",
       "      <td>3500000000</td>\n",
       "      <td>0</td>\n",
       "      <td>3</td>\n",
       "      <td>2</td>\n",
       "      <td>0</td>\n",
       "    </tr>\n",
       "    <tr>\n",
       "      <th>1</th>\n",
       "      <td>0</td>\n",
       "      <td>30.0</td>\n",
       "      <td>60.0</td>\n",
       "      <td>2.0</td>\n",
       "      <td>1.0</td>\n",
       "      <td>2.0</td>\n",
       "      <td>287799000</td>\n",
       "      <td>0</td>\n",
       "      <td>3</td>\n",
       "      <td>2</td>\n",
       "      <td>1</td>\n",
       "    </tr>\n",
       "    <tr>\n",
       "      <th>2</th>\n",
       "      <td>3</td>\n",
       "      <td>170.0</td>\n",
       "      <td>170.0</td>\n",
       "      <td>5.0</td>\n",
       "      <td>4.0</td>\n",
       "      <td>2.0</td>\n",
       "      <td>2699999999</td>\n",
       "      <td>0</td>\n",
       "      <td>1</td>\n",
       "      <td>0</td>\n",
       "      <td>0</td>\n",
       "    </tr>\n",
       "    <tr>\n",
       "      <th>3</th>\n",
       "      <td>2</td>\n",
       "      <td>187.0</td>\n",
       "      <td>250.0</td>\n",
       "      <td>5.0</td>\n",
       "      <td>5.0</td>\n",
       "      <td>2.0</td>\n",
       "      <td>3100000000</td>\n",
       "      <td>0</td>\n",
       "      <td>3</td>\n",
       "      <td>2</td>\n",
       "      <td>0</td>\n",
       "    </tr>\n",
       "    <tr>\n",
       "      <th>4</th>\n",
       "      <td>1</td>\n",
       "      <td>350.0</td>\n",
       "      <td>600.0</td>\n",
       "      <td>5.0</td>\n",
       "      <td>5.0</td>\n",
       "      <td>2.0</td>\n",
       "      <td>5000000000</td>\n",
       "      <td>0</td>\n",
       "      <td>0</td>\n",
       "      <td>2</td>\n",
       "      <td>0</td>\n",
       "    </tr>\n",
       "  </tbody>\n",
       "</table>\n",
       "</div>"
      ],
      "text/plain": [
       "   Area Category Luas Tanah (m2) Luas Bangunan (m2) Jumlah Kamar  \\\n",
       "0              3           240.0              300.0          4.0   \n",
       "1              0            30.0               60.0          2.0   \n",
       "2              3           170.0              170.0          5.0   \n",
       "3              2           187.0              250.0          5.0   \n",
       "4              1           350.0              600.0          5.0   \n",
       "\n",
       "  Jumlah Kamar Mandi Tingkat/Lantai  Harga Penawaran (dari Owner)  \\\n",
       "0                3.0             2.0                   3500000000   \n",
       "1                1.0             2.0                    287799000   \n",
       "2                4.0             2.0                   2699999999   \n",
       "3                5.0             2.0                   3100000000   \n",
       "4                5.0             2.0                   5000000000   \n",
       "\n",
       "   Terjual/Belum  Arah Hadap Rumah  Posisi Rumah  \\\n",
       "0              0                 3             2   \n",
       "1              0                 3             2   \n",
       "2              0                 1             0   \n",
       "3              0                 3             2   \n",
       "4              0                 0             2   \n",
       "\n",
       "   Lebar Jalan Depan Rumah (ROW)  \n",
       "0                              0  \n",
       "1                              1  \n",
       "2                              0  \n",
       "3                              0  \n",
       "4                              0  "
      ]
     },
     "execution_count": 93,
     "metadata": {},
     "output_type": "execute_result"
    }
   ],
   "source": [
    "label_encoders = {}\n",
    "categorical_cols = ['Area Category', 'Terjual/Belum', 'Arah Hadap Rumah', 'Posisi Rumah', 'Lebar Jalan Depan Rumah (ROW)']\n",
    "for col in categorical_cols:\n",
    "    le = LabelEncoder()\n",
    "    df_imputed[col] = le.fit_transform(df_imputed[col])\n",
    "    label_encoders[col] = le\n",
    "\n",
    "df_imputed.head()"
   ]
  },
  {
   "cell_type": "markdown",
   "metadata": {
    "id": "NnwN15T_rk-x"
   },
   "source": [
    "To replace incorrect or invalid data in the column \"Harga Penawaran (dari Owner)\", do the following:\n",
    "\n",
    "Replace empty values (\" \") with \"10500000000\".\n",
    "\n",
    "Replace values with commas like \"10.500.000.000,00\" with \"10500000000\"."
   ]
  },
  {
   "cell_type": "code",
   "execution_count": 94,
   "metadata": {
    "id": "Zie7cOwvbkIm"
   },
   "outputs": [],
   "source": [
    "df_imputed['Harga Penawaran (dari Owner)'] = df_imputed['Harga Penawaran (dari Owner)'].replace(\" \", \"10500000000\")\n",
    "df_imputed['Harga Penawaran (dari Owner)'] = df_imputed['Harga Penawaran (dari Owner)'].replace(r'^\\d{1,3}(\\.\\d{3})*,00$', \"10500000000\", regex=True)"
   ]
  },
  {
   "cell_type": "markdown",
   "metadata": {
    "id": "ZYcSwNYQrfF3"
   },
   "source": [
    "check the data type"
   ]
  },
  {
   "cell_type": "code",
   "execution_count": 95,
   "metadata": {
    "colab": {
     "base_uri": "https://localhost:8080/"
    },
    "id": "tenlxUxBLdWR",
    "outputId": "1e26969e-b151-454c-b8b3-e9639d8a8cd4"
   },
   "outputs": [
    {
     "name": "stdout",
     "output_type": "stream",
     "text": [
      "<class 'pandas.core.frame.DataFrame'>\n",
      "RangeIndex: 308 entries, 0 to 307\n",
      "Data columns (total 11 columns):\n",
      " #   Column                         Non-Null Count  Dtype \n",
      "---  ------                         --------------  ----- \n",
      " 0   Area Category                  308 non-null    int32 \n",
      " 1   Luas Tanah (m2)                308 non-null    object\n",
      " 2   Luas Bangunan (m2)             308 non-null    object\n",
      " 3   Jumlah Kamar                   308 non-null    object\n",
      " 4   Jumlah Kamar Mandi             308 non-null    object\n",
      " 5   Tingkat/Lantai                 308 non-null    object\n",
      " 6   Harga Penawaran (dari Owner)   308 non-null    object\n",
      " 7   Terjual/Belum                  308 non-null    int32 \n",
      " 8   Arah Hadap Rumah               308 non-null    int32 \n",
      " 9   Posisi Rumah                   308 non-null    int32 \n",
      " 10  Lebar Jalan Depan Rumah (ROW)  308 non-null    int32 \n",
      "dtypes: int32(5), object(6)\n",
      "memory usage: 20.6+ KB\n"
     ]
    }
   ],
   "source": [
    "df_imputed.info()"
   ]
  },
  {
   "cell_type": "markdown",
   "metadata": {
    "id": "t6lZHF2PLXGo"
   },
   "source": [
    "Change the data types from:\n",
    "\n",
    "- float to int\n",
    "- object to int"
   ]
  },
  {
   "cell_type": "code",
   "execution_count": 96,
   "metadata": {
    "id": "tePlKVUaLE8k"
   },
   "outputs": [],
   "source": [
    "df_imputed[\"Area Category\"] = df_imputed[\"Area Category\"].astype(int)\n",
    "df_imputed[\"Luas Tanah (m2)\"] = df_imputed[\"Luas Tanah (m2)\"].astype(int)\n",
    "df_imputed[\"Luas Bangunan (m2)\"] = df_imputed[\"Luas Bangunan (m2)\"].astype(int)\n",
    "df_imputed[\"Jumlah Kamar\"] = df_imputed[\"Jumlah Kamar\"].astype(int)\n",
    "df_imputed[\"Jumlah Kamar Mandi\"] = df_imputed[\"Jumlah Kamar Mandi\"].astype(int)\n",
    "df_imputed[\"Tingkat/Lantai \"] = df_imputed[\"Tingkat/Lantai \"].astype(int)\n",
    "df_imputed[\"Harga Penawaran (dari Owner)\"] = df_imputed[\"Harga Penawaran (dari Owner)\"].astype(np.int64)\n",
    "df_imputed[\"Terjual/Belum\"] = df_imputed[\"Terjual/Belum\"].astype(int)\n",
    "df_imputed[\"Arah Hadap Rumah\"] = df_imputed[\"Arah Hadap Rumah\"].astype(int)\n",
    "df_imputed[\"Posisi Rumah\"] = df_imputed[\"Posisi Rumah\"].astype(int)\n",
    "df_imputed[\"Lebar Jalan Depan Rumah (ROW)\"] = df_imputed[\"Lebar Jalan Depan Rumah (ROW)\"].astype(int)"
   ]
  },
  {
   "cell_type": "code",
   "execution_count": 97,
   "metadata": {
    "colab": {
     "base_uri": "https://localhost:8080/"
    },
    "id": "PdRtvMT3bEnJ",
    "outputId": "950f33e8-ae31-4491-9b9b-294daf3b33dc"
   },
   "outputs": [
    {
     "name": "stdout",
     "output_type": "stream",
     "text": [
      "<class 'pandas.core.frame.DataFrame'>\n",
      "RangeIndex: 308 entries, 0 to 307\n",
      "Data columns (total 11 columns):\n",
      " #   Column                         Non-Null Count  Dtype\n",
      "---  ------                         --------------  -----\n",
      " 0   Area Category                  308 non-null    int32\n",
      " 1   Luas Tanah (m2)                308 non-null    int32\n",
      " 2   Luas Bangunan (m2)             308 non-null    int32\n",
      " 3   Jumlah Kamar                   308 non-null    int32\n",
      " 4   Jumlah Kamar Mandi             308 non-null    int32\n",
      " 5   Tingkat/Lantai                 308 non-null    int32\n",
      " 6   Harga Penawaran (dari Owner)   308 non-null    int64\n",
      " 7   Terjual/Belum                  308 non-null    int32\n",
      " 8   Arah Hadap Rumah               308 non-null    int32\n",
      " 9   Posisi Rumah                   308 non-null    int32\n",
      " 10  Lebar Jalan Depan Rumah (ROW)  308 non-null    int32\n",
      "dtypes: int32(10), int64(1)\n",
      "memory usage: 14.6 KB\n"
     ]
    }
   ],
   "source": [
    "df_imputed.info()"
   ]
  },
  {
   "cell_type": "markdown",
   "metadata": {
    "id": "_qQtlqnzRARK"
   },
   "source": [
    "4."
   ]
  },
  {
   "cell_type": "code",
   "execution_count": 98,
   "metadata": {
    "colab": {
     "base_uri": "https://localhost:8080/",
     "height": 223
    },
    "id": "_EOGmQfi8XKS",
    "outputId": "3ccec2ee-d9ea-4837-b0a0-2feb409c8c88"
   },
   "outputs": [
    {
     "data": {
      "text/html": [
       "<div>\n",
       "<style scoped>\n",
       "    .dataframe tbody tr th:only-of-type {\n",
       "        vertical-align: middle;\n",
       "    }\n",
       "\n",
       "    .dataframe tbody tr th {\n",
       "        vertical-align: top;\n",
       "    }\n",
       "\n",
       "    .dataframe thead th {\n",
       "        text-align: right;\n",
       "    }\n",
       "</style>\n",
       "<table border=\"1\" class=\"dataframe\">\n",
       "  <thead>\n",
       "    <tr style=\"text-align: right;\">\n",
       "      <th></th>\n",
       "      <th>Area Category</th>\n",
       "      <th>Luas Tanah (m2)</th>\n",
       "      <th>Luas Bangunan (m2)</th>\n",
       "      <th>Jumlah Kamar</th>\n",
       "      <th>Jumlah Kamar Mandi</th>\n",
       "      <th>Tingkat/Lantai</th>\n",
       "      <th>Harga Penawaran (dari Owner)</th>\n",
       "      <th>Terjual/Belum</th>\n",
       "      <th>Arah Hadap Rumah</th>\n",
       "      <th>Posisi Rumah</th>\n",
       "      <th>Lebar Jalan Depan Rumah (ROW)</th>\n",
       "    </tr>\n",
       "  </thead>\n",
       "  <tbody>\n",
       "    <tr>\n",
       "      <th>0</th>\n",
       "      <td>1.004372</td>\n",
       "      <td>0.064760</td>\n",
       "      <td>0.156529</td>\n",
       "      <td>-0.168161</td>\n",
       "      <td>-0.207847</td>\n",
       "      <td>0.313723</td>\n",
       "      <td>-0.182491</td>\n",
       "      <td>0.0</td>\n",
       "      <td>0.839497</td>\n",
       "      <td>-0.188069</td>\n",
       "      <td>-0.825581</td>\n",
       "    </tr>\n",
       "    <tr>\n",
       "      <th>1</th>\n",
       "      <td>-1.677824</td>\n",
       "      <td>-0.977457</td>\n",
       "      <td>-0.971209</td>\n",
       "      <td>-1.386831</td>\n",
       "      <td>-1.438941</td>\n",
       "      <td>0.313723</td>\n",
       "      <td>-0.569600</td>\n",
       "      <td>0.0</td>\n",
       "      <td>0.839497</td>\n",
       "      <td>-0.188069</td>\n",
       "      <td>0.220834</td>\n",
       "    </tr>\n",
       "    <tr>\n",
       "      <th>2</th>\n",
       "      <td>1.004372</td>\n",
       "      <td>-0.282646</td>\n",
       "      <td>-0.454330</td>\n",
       "      <td>0.441174</td>\n",
       "      <td>0.407700</td>\n",
       "      <td>0.313723</td>\n",
       "      <td>-0.278901</td>\n",
       "      <td>0.0</td>\n",
       "      <td>-1.141845</td>\n",
       "      <td>-5.453988</td>\n",
       "      <td>-0.825581</td>\n",
       "    </tr>\n",
       "    <tr>\n",
       "      <th>3</th>\n",
       "      <td>0.110307</td>\n",
       "      <td>-0.198276</td>\n",
       "      <td>-0.078417</td>\n",
       "      <td>0.441174</td>\n",
       "      <td>1.023247</td>\n",
       "      <td>0.313723</td>\n",
       "      <td>-0.230696</td>\n",
       "      <td>0.0</td>\n",
       "      <td>0.839497</td>\n",
       "      <td>-0.188069</td>\n",
       "      <td>-0.825581</td>\n",
       "    </tr>\n",
       "    <tr>\n",
       "      <th>4</th>\n",
       "      <td>-0.783759</td>\n",
       "      <td>0.610683</td>\n",
       "      <td>1.566201</td>\n",
       "      <td>0.441174</td>\n",
       "      <td>1.023247</td>\n",
       "      <td>0.313723</td>\n",
       "      <td>-0.001723</td>\n",
       "      <td>0.0</td>\n",
       "      <td>-2.132516</td>\n",
       "      <td>-0.188069</td>\n",
       "      <td>-0.825581</td>\n",
       "    </tr>\n",
       "  </tbody>\n",
       "</table>\n",
       "</div>"
      ],
      "text/plain": [
       "   Area Category  Luas Tanah (m2)  Luas Bangunan (m2)  Jumlah Kamar  \\\n",
       "0       1.004372         0.064760            0.156529     -0.168161   \n",
       "1      -1.677824        -0.977457           -0.971209     -1.386831   \n",
       "2       1.004372        -0.282646           -0.454330      0.441174   \n",
       "3       0.110307        -0.198276           -0.078417      0.441174   \n",
       "4      -0.783759         0.610683            1.566201      0.441174   \n",
       "\n",
       "   Jumlah Kamar Mandi  Tingkat/Lantai  Harga Penawaran (dari Owner)  \\\n",
       "0           -0.207847        0.313723                     -0.182491   \n",
       "1           -1.438941        0.313723                     -0.569600   \n",
       "2            0.407700        0.313723                     -0.278901   \n",
       "3            1.023247        0.313723                     -0.230696   \n",
       "4            1.023247        0.313723                     -0.001723   \n",
       "\n",
       "   Terjual/Belum  Arah Hadap Rumah  Posisi Rumah  \\\n",
       "0            0.0          0.839497     -0.188069   \n",
       "1            0.0          0.839497     -0.188069   \n",
       "2            0.0         -1.141845     -5.453988   \n",
       "3            0.0          0.839497     -0.188069   \n",
       "4            0.0         -2.132516     -0.188069   \n",
       "\n",
       "   Lebar Jalan Depan Rumah (ROW)  \n",
       "0                      -0.825581  \n",
       "1                       0.220834  \n",
       "2                      -0.825581  \n",
       "3                      -0.825581  \n",
       "4                      -0.825581  "
      ]
     },
     "execution_count": 98,
     "metadata": {},
     "output_type": "execute_result"
    }
   ],
   "source": [
    "# scaling data\n",
    "sc = StandardScaler()\n",
    " \n",
    "scaled = pd.DataFrame(sc.fit_transform(df_imputed), columns=[\"Area Category\", \"Luas Tanah (m2)\",  \"Luas Bangunan (m2)\", \"Jumlah Kamar\", \"Jumlah Kamar Mandi\", \"Tingkat/Lantai\", \"Harga Penawaran (dari Owner)\", \n",
    "     \"Terjual/Belum\", \"Arah Hadap Rumah\", \"Posisi Rumah\", \"Lebar Jalan Depan Rumah (ROW)\"])\n",
    "\n",
    "scaled.head()"
   ]
  },
  {
   "cell_type": "markdown",
   "metadata": {
    "id": "ZPx1qmFr3ouX"
   },
   "source": [
    "## K-Means Clustering"
   ]
  },
  {
   "cell_type": "markdown",
   "metadata": {
    "id": "BAHb1xo_A3m5"
   },
   "source": [
    "Using the elbow method, determine the number of clusters to be formed.\n",
    "\n",
    "Use the elbow range range(1, 11)"
   ]
  },
  {
   "cell_type": "code",
   "execution_count": 99,
   "metadata": {
    "colab": {
     "base_uri": "https://localhost:8080/",
     "height": 449
    },
    "id": "HFLEIVEI-J8n",
    "outputId": "af930208-dcf7-4cab-8f9a-0e4c08bc55d7"
   },
   "outputs": [
    {
     "name": "stderr",
     "output_type": "stream",
     "text": [
      "C:\\Users\\ekasu\\anaconda3\\Lib\\site-packages\\sklearn\\cluster\\_kmeans.py:1412: FutureWarning: The default value of `n_init` will change from 10 to 'auto' in 1.4. Set the value of `n_init` explicitly to suppress the warning\n",
      "  super()._check_params_vs_input(X, default_n_init=10)\n",
      "C:\\Users\\ekasu\\anaconda3\\Lib\\site-packages\\sklearn\\cluster\\_kmeans.py:1436: UserWarning: KMeans is known to have a memory leak on Windows with MKL, when there are less chunks than available threads. You can avoid it by setting the environment variable OMP_NUM_THREADS=2.\n",
      "  warnings.warn(\n",
      "C:\\Users\\ekasu\\anaconda3\\Lib\\site-packages\\sklearn\\cluster\\_kmeans.py:1412: FutureWarning: The default value of `n_init` will change from 10 to 'auto' in 1.4. Set the value of `n_init` explicitly to suppress the warning\n",
      "  super()._check_params_vs_input(X, default_n_init=10)\n",
      "C:\\Users\\ekasu\\anaconda3\\Lib\\site-packages\\sklearn\\cluster\\_kmeans.py:1436: UserWarning: KMeans is known to have a memory leak on Windows with MKL, when there are less chunks than available threads. You can avoid it by setting the environment variable OMP_NUM_THREADS=2.\n",
      "  warnings.warn(\n",
      "C:\\Users\\ekasu\\anaconda3\\Lib\\site-packages\\sklearn\\cluster\\_kmeans.py:1412: FutureWarning: The default value of `n_init` will change from 10 to 'auto' in 1.4. Set the value of `n_init` explicitly to suppress the warning\n",
      "  super()._check_params_vs_input(X, default_n_init=10)\n",
      "C:\\Users\\ekasu\\anaconda3\\Lib\\site-packages\\sklearn\\cluster\\_kmeans.py:1436: UserWarning: KMeans is known to have a memory leak on Windows with MKL, when there are less chunks than available threads. You can avoid it by setting the environment variable OMP_NUM_THREADS=2.\n",
      "  warnings.warn(\n",
      "C:\\Users\\ekasu\\anaconda3\\Lib\\site-packages\\sklearn\\cluster\\_kmeans.py:1412: FutureWarning: The default value of `n_init` will change from 10 to 'auto' in 1.4. Set the value of `n_init` explicitly to suppress the warning\n",
      "  super()._check_params_vs_input(X, default_n_init=10)\n",
      "C:\\Users\\ekasu\\anaconda3\\Lib\\site-packages\\sklearn\\cluster\\_kmeans.py:1436: UserWarning: KMeans is known to have a memory leak on Windows with MKL, when there are less chunks than available threads. You can avoid it by setting the environment variable OMP_NUM_THREADS=2.\n",
      "  warnings.warn(\n",
      "C:\\Users\\ekasu\\anaconda3\\Lib\\site-packages\\sklearn\\cluster\\_kmeans.py:1412: FutureWarning: The default value of `n_init` will change from 10 to 'auto' in 1.4. Set the value of `n_init` explicitly to suppress the warning\n",
      "  super()._check_params_vs_input(X, default_n_init=10)\n",
      "C:\\Users\\ekasu\\anaconda3\\Lib\\site-packages\\sklearn\\cluster\\_kmeans.py:1436: UserWarning: KMeans is known to have a memory leak on Windows with MKL, when there are less chunks than available threads. You can avoid it by setting the environment variable OMP_NUM_THREADS=2.\n",
      "  warnings.warn(\n",
      "C:\\Users\\ekasu\\anaconda3\\Lib\\site-packages\\sklearn\\cluster\\_kmeans.py:1412: FutureWarning: The default value of `n_init` will change from 10 to 'auto' in 1.4. Set the value of `n_init` explicitly to suppress the warning\n",
      "  super()._check_params_vs_input(X, default_n_init=10)\n",
      "C:\\Users\\ekasu\\anaconda3\\Lib\\site-packages\\sklearn\\cluster\\_kmeans.py:1436: UserWarning: KMeans is known to have a memory leak on Windows with MKL, when there are less chunks than available threads. You can avoid it by setting the environment variable OMP_NUM_THREADS=2.\n",
      "  warnings.warn(\n",
      "C:\\Users\\ekasu\\anaconda3\\Lib\\site-packages\\sklearn\\cluster\\_kmeans.py:1412: FutureWarning: The default value of `n_init` will change from 10 to 'auto' in 1.4. Set the value of `n_init` explicitly to suppress the warning\n",
      "  super()._check_params_vs_input(X, default_n_init=10)\n",
      "C:\\Users\\ekasu\\anaconda3\\Lib\\site-packages\\sklearn\\cluster\\_kmeans.py:1436: UserWarning: KMeans is known to have a memory leak on Windows with MKL, when there are less chunks than available threads. You can avoid it by setting the environment variable OMP_NUM_THREADS=2.\n",
      "  warnings.warn(\n",
      "C:\\Users\\ekasu\\anaconda3\\Lib\\site-packages\\sklearn\\cluster\\_kmeans.py:1412: FutureWarning: The default value of `n_init` will change from 10 to 'auto' in 1.4. Set the value of `n_init` explicitly to suppress the warning\n",
      "  super()._check_params_vs_input(X, default_n_init=10)\n",
      "C:\\Users\\ekasu\\anaconda3\\Lib\\site-packages\\sklearn\\cluster\\_kmeans.py:1436: UserWarning: KMeans is known to have a memory leak on Windows with MKL, when there are less chunks than available threads. You can avoid it by setting the environment variable OMP_NUM_THREADS=2.\n",
      "  warnings.warn(\n",
      "C:\\Users\\ekasu\\anaconda3\\Lib\\site-packages\\sklearn\\cluster\\_kmeans.py:1412: FutureWarning: The default value of `n_init` will change from 10 to 'auto' in 1.4. Set the value of `n_init` explicitly to suppress the warning\n",
      "  super()._check_params_vs_input(X, default_n_init=10)\n",
      "C:\\Users\\ekasu\\anaconda3\\Lib\\site-packages\\sklearn\\cluster\\_kmeans.py:1436: UserWarning: KMeans is known to have a memory leak on Windows with MKL, when there are less chunks than available threads. You can avoid it by setting the environment variable OMP_NUM_THREADS=2.\n",
      "  warnings.warn(\n",
      "C:\\Users\\ekasu\\anaconda3\\Lib\\site-packages\\sklearn\\cluster\\_kmeans.py:1412: FutureWarning: The default value of `n_init` will change from 10 to 'auto' in 1.4. Set the value of `n_init` explicitly to suppress the warning\n",
      "  super()._check_params_vs_input(X, default_n_init=10)\n",
      "C:\\Users\\ekasu\\anaconda3\\Lib\\site-packages\\sklearn\\cluster\\_kmeans.py:1436: UserWarning: KMeans is known to have a memory leak on Windows with MKL, when there are less chunks than available threads. You can avoid it by setting the environment variable OMP_NUM_THREADS=2.\n",
      "  warnings.warn(\n"
     ]
    },
    {
     "data": {
      "image/png": "[encoded data removed]",
      "text/plain": [
       "<Figure size 640x480 with 1 Axes>"
      ]
     },
     "metadata": {},
     "output_type": "display_data"
    }
   ],
   "source": [
    "from sklearn.cluster import KMeans\n",
    "sse = []\n",
    "for i in range(1,11):\n",
    "    kmeans = KMeans(n_clusters=i, init='random', max_iter=300, random_state=42)\n",
    "    kmeans.fit(df_imputed)\n",
    "    sse.append(kmeans.inertia_)\n",
    "\n",
    "plt.plot(range(1,11), sse)\n",
    "plt.xlabel('Number of Clusters')\n",
    "plt.ylabel('SSE')\n",
    "plt.show()"
   ]
  },
  {
   "cell_type": "code",
   "execution_count": 100,
   "metadata": {
    "colab": {
     "base_uri": "https://localhost:8080/"
    },
    "id": "r4777AaK-Mlw",
    "outputId": "50afd73f-44f3-40a3-84b8-3d450acc0b34"
   },
   "outputs": [
    {
     "name": "stdout",
     "output_type": "stream",
     "text": [
      "The best k for you model is 3\n"
     ]
    }
   ],
   "source": [
    "from kneed import KneeLocator\n",
    "kneedle = KneeLocator(range(1,11), sse, curve=\"convex\", direction=\"decreasing\")\n",
    "print(\"The best k for you model is\", kneedle.elbow)"
   ]
  },
  {
   "cell_type": "markdown",
   "metadata": {
    "id": "riWXo9djBIkj"
   },
   "source": [
    "Train the K-Means model on the dataset with the number of clusters you have determined."
   ]
  },
  {
   "cell_type": "code",
   "execution_count": 101,
   "metadata": {
    "id": "mvT6Yql2BNMl"
   },
   "outputs": [
    {
     "name": "stderr",
     "output_type": "stream",
     "text": [
      "C:\\Users\\ekasu\\anaconda3\\Lib\\site-packages\\sklearn\\cluster\\_kmeans.py:1412: FutureWarning: The default value of `n_init` will change from 10 to 'auto' in 1.4. Set the value of `n_init` explicitly to suppress the warning\n",
      "  super()._check_params_vs_input(X, default_n_init=10)\n",
      "C:\\Users\\ekasu\\anaconda3\\Lib\\site-packages\\sklearn\\cluster\\_kmeans.py:1436: UserWarning: KMeans is known to have a memory leak on Windows with MKL, when there are less chunks than available threads. You can avoid it by setting the environment variable OMP_NUM_THREADS=2.\n",
      "  warnings.warn(\n"
     ]
    }
   ],
   "source": [
    "from sklearn.cluster import KMeans\n",
    "kmeans = KMeans(n_clusters=3, init='random',max_iter=300,random_state=42)\n",
    "\n",
    "y_pred = kmeans.fit_predict(df_imputed)"
   ]
  },
  {
   "cell_type": "code",
   "execution_count": 103,
   "metadata": {
    "colab": {
     "base_uri": "https://localhost:8080/",
     "height": 223
    },
    "id": "Ri2O0PufdZV4",
    "outputId": "a8622478-3619-4a7f-cc90-f103c73bba9f"
   },
   "outputs": [
    {
     "data": {
      "text/html": [
       "<div>\n",
       "<style scoped>\n",
       "    .dataframe tbody tr th:only-of-type {\n",
       "        vertical-align: middle;\n",
       "    }\n",
       "\n",
       "    .dataframe tbody tr th {\n",
       "        vertical-align: top;\n",
       "    }\n",
       "\n",
       "    .dataframe thead th {\n",
       "        text-align: right;\n",
       "    }\n",
       "</style>\n",
       "<table border=\"1\" class=\"dataframe\">\n",
       "  <thead>\n",
       "    <tr style=\"text-align: right;\">\n",
       "      <th></th>\n",
       "      <th>Area Category</th>\n",
       "      <th>Luas Tanah (m2)</th>\n",
       "      <th>Luas Bangunan (m2)</th>\n",
       "      <th>Jumlah Kamar</th>\n",
       "      <th>Jumlah Kamar Mandi</th>\n",
       "      <th>Tingkat/Lantai</th>\n",
       "      <th>Harga Penawaran (dari Owner)</th>\n",
       "      <th>Terjual/Belum</th>\n",
       "      <th>Arah Hadap Rumah</th>\n",
       "      <th>Posisi Rumah</th>\n",
       "      <th>Lebar Jalan Depan Rumah (ROW)</th>\n",
       "      <th>Cluster</th>\n",
       "    </tr>\n",
       "  </thead>\n",
       "  <tbody>\n",
       "    <tr>\n",
       "      <th>0</th>\n",
       "      <td>5.232083</td>\n",
       "      <td>48585.403021</td>\n",
       "      <td>64111.300483</td>\n",
       "      <td>10.840508</td>\n",
       "      <td>8.211375</td>\n",
       "      <td>2.855123</td>\n",
       "      <td>2.904276e+19</td>\n",
       "      <td>0.0</td>\n",
       "      <td>5.180847</td>\n",
       "      <td>2.831030</td>\n",
       "      <td>0.788961</td>\n",
       "      <td>0</td>\n",
       "    </tr>\n",
       "    <tr>\n",
       "      <th>1</th>\n",
       "      <td>1.876623</td>\n",
       "      <td>6271.757764</td>\n",
       "      <td>13035.610746</td>\n",
       "      <td>7.558241</td>\n",
       "      <td>4.962233</td>\n",
       "      <td>2.855123</td>\n",
       "      <td>2.388136e+18</td>\n",
       "      <td>0.0</td>\n",
       "      <td>5.180847</td>\n",
       "      <td>2.831030</td>\n",
       "      <td>1.744605</td>\n",
       "      <td>0</td>\n",
       "    </tr>\n",
       "    <tr>\n",
       "      <th>2</th>\n",
       "      <td>5.232083</td>\n",
       "      <td>34480.854602</td>\n",
       "      <td>36445.301875</td>\n",
       "      <td>12.481641</td>\n",
       "      <td>9.835946</td>\n",
       "      <td>2.855123</td>\n",
       "      <td>2.240441e+19</td>\n",
       "      <td>0.0</td>\n",
       "      <td>3.162014</td>\n",
       "      <td>2.071429</td>\n",
       "      <td>0.788961</td>\n",
       "      <td>0</td>\n",
       "    </tr>\n",
       "    <tr>\n",
       "      <th>3</th>\n",
       "      <td>4.113596</td>\n",
       "      <td>37906.244932</td>\n",
       "      <td>53470.531788</td>\n",
       "      <td>12.481641</td>\n",
       "      <td>11.460517</td>\n",
       "      <td>2.855123</td>\n",
       "      <td>2.572358e+19</td>\n",
       "      <td>0.0</td>\n",
       "      <td>5.180847</td>\n",
       "      <td>2.831030</td>\n",
       "      <td>0.788961</td>\n",
       "      <td>0</td>\n",
       "    </tr>\n",
       "    <tr>\n",
       "      <th>4</th>\n",
       "      <td>2.995110</td>\n",
       "      <td>70749.693394</td>\n",
       "      <td>127955.912654</td>\n",
       "      <td>12.481641</td>\n",
       "      <td>11.460517</td>\n",
       "      <td>2.855123</td>\n",
       "      <td>4.148965e+19</td>\n",
       "      <td>0.0</td>\n",
       "      <td>2.152597</td>\n",
       "      <td>2.831030</td>\n",
       "      <td>0.788961</td>\n",
       "      <td>0</td>\n",
       "    </tr>\n",
       "  </tbody>\n",
       "</table>\n",
       "</div>"
      ],
      "text/plain": [
       "   Area Category  Luas Tanah (m2)  Luas Bangunan (m2)  Jumlah Kamar  \\\n",
       "0       5.232083     48585.403021        64111.300483     10.840508   \n",
       "1       1.876623      6271.757764        13035.610746      7.558241   \n",
       "2       5.232083     34480.854602        36445.301875     12.481641   \n",
       "3       4.113596     37906.244932        53470.531788     12.481641   \n",
       "4       2.995110     70749.693394       127955.912654     12.481641   \n",
       "\n",
       "   Jumlah Kamar Mandi  Tingkat/Lantai  Harga Penawaran (dari Owner)  \\\n",
       "0            8.211375        2.855123                  2.904276e+19   \n",
       "1            4.962233        2.855123                  2.388136e+18   \n",
       "2            9.835946        2.855123                  2.240441e+19   \n",
       "3           11.460517        2.855123                  2.572358e+19   \n",
       "4           11.460517        2.855123                  4.148965e+19   \n",
       "\n",
       "   Terjual/Belum  Arah Hadap Rumah  Posisi Rumah  \\\n",
       "0            0.0          5.180847      2.831030   \n",
       "1            0.0          5.180847      2.831030   \n",
       "2            0.0          3.162014      2.071429   \n",
       "3            0.0          5.180847      2.831030   \n",
       "4            0.0          2.152597      2.831030   \n",
       "\n",
       "   Lebar Jalan Depan Rumah (ROW)  Cluster  \n",
       "0                       0.788961        0  \n",
       "1                       1.744605        0  \n",
       "2                       0.788961        0  \n",
       "3                       0.788961        0  \n",
       "4                       0.788961        0  "
      ]
     },
     "execution_count": 103,
     "metadata": {},
     "output_type": "execute_result"
    }
   ],
   "source": [
    "# Inverse transform the scaled data to get the original values\n",
    "df_inv = pd.DataFrame(sc.inverse_transform(df_imputed),columns=[\"Area Category\",\"Luas Tanah (m2)\",\"Luas Bangunan (m2)\",\"Jumlah Kamar\",\"Jumlah Kamar Mandi\",\"Tingkat/Lantai\",\"Harga Penawaran (dari Owner)\",\"Terjual/Belum\",\"Arah Hadap Rumah\",\"Posisi Rumah\",\"Lebar Jalan Depan Rumah (ROW)\"])\n",
    "\n",
    "df_inv['Cluster'] = y_pred\n",
    "\n",
    "df_inv.head()"
   ]
  },
  {
   "cell_type": "markdown",
   "metadata": {
    "id": "DySLxlWqBNyH"
   },
   "source": [
    "Display the cluster summary in the form of a dataframe:\n",
    "\n",
    "1. For categorical columns: mode (use pd.Series.mode to find the mode; you do not need to use \" \" for this attribute).\n",
    "2. For continuous columns: mean.\n",
    "3. Cluster results: count."
   ]
  },
  {
   "cell_type": "code",
   "execution_count": 88,
   "metadata": {
    "colab": {
     "base_uri": "https://localhost:8080/",
     "height": 833
    },
    "id": "LPMJx0x_ZzRP",
    "outputId": "064111fd-e9e4-4a60-b718-225def2b1ba5"
   },
   "outputs": [
    {
     "data": {
      "text/html": [
       "<div>\n",
       "<style scoped>\n",
       "    .dataframe tbody tr th:only-of-type {\n",
       "        vertical-align: middle;\n",
       "    }\n",
       "\n",
       "    .dataframe tbody tr th {\n",
       "        vertical-align: top;\n",
       "    }\n",
       "\n",
       "    .dataframe thead th {\n",
       "        text-align: right;\n",
       "    }\n",
       "</style>\n",
       "<table border=\"1\" class=\"dataframe\">\n",
       "  <thead>\n",
       "    <tr style=\"text-align: right;\">\n",
       "      <th></th>\n",
       "      <th>cluster</th>\n",
       "      <th>0</th>\n",
       "      <th>1</th>\n",
       "      <th>2</th>\n",
       "    </tr>\n",
       "  </thead>\n",
       "  <tbody>\n",
       "    <tr>\n",
       "      <th rowspan=\"4\" valign=\"top\">Area Category</th>\n",
       "      <th>mean</th>\n",
       "      <td>3.981035e+00</td>\n",
       "      <td>3.896113e+00</td>\n",
       "      <td>4.672840e+00</td>\n",
       "    </tr>\n",
       "    <tr>\n",
       "      <th>std</th>\n",
       "      <td>1.290690e+00</td>\n",
       "      <td>9.572961e-01</td>\n",
       "      <td>7.908894e-01</td>\n",
       "    </tr>\n",
       "    <tr>\n",
       "      <th>min</th>\n",
       "      <td>1.876623e+00</td>\n",
       "      <td>1.876623e+00</td>\n",
       "      <td>4.113596e+00</td>\n",
       "    </tr>\n",
       "    <tr>\n",
       "      <th>max</th>\n",
       "      <td>5.232083e+00</td>\n",
       "      <td>5.232083e+00</td>\n",
       "      <td>5.232083e+00</td>\n",
       "    </tr>\n",
       "    <tr>\n",
       "      <th rowspan=\"4\" valign=\"top\">Luas Tanah (m2)</th>\n",
       "      <th>mean</th>\n",
       "      <td>3.490921e+04</td>\n",
       "      <td>1.229533e+05</td>\n",
       "      <td>1.513471e+05</td>\n",
       "    </tr>\n",
       "    <tr>\n",
       "      <th>std</th>\n",
       "      <td>2.305966e+04</td>\n",
       "      <td>5.188636e+04</td>\n",
       "      <td>4.274324e+04</td>\n",
       "    </tr>\n",
       "    <tr>\n",
       "      <th>min</th>\n",
       "      <td>3.047861e+03</td>\n",
       "      <td>3.649579e+04</td>\n",
       "      <td>1.211231e+05</td>\n",
       "    </tr>\n",
       "    <tr>\n",
       "      <th>max</th>\n",
       "      <td>1.714965e+05</td>\n",
       "      <td>3.147584e+05</td>\n",
       "      <td>1.815711e+05</td>\n",
       "    </tr>\n",
       "    <tr>\n",
       "      <th rowspan=\"4\" valign=\"top\">Luas Bangunan (m2)</th>\n",
       "      <th>mean</th>\n",
       "      <td>4.595815e+04</td>\n",
       "      <td>1.331049e+05</td>\n",
       "      <td>1.811598e+05</td>\n",
       "    </tr>\n",
       "    <tr>\n",
       "      <th>std</th>\n",
       "      <td>3.092338e+04</td>\n",
       "      <td>5.254142e+04</td>\n",
       "      <td>7.524160e+04</td>\n",
       "    </tr>\n",
       "    <tr>\n",
       "      <th>min</th>\n",
       "      <td>3.246104e+03</td>\n",
       "      <td>5.134238e+04</td>\n",
       "      <td>1.279559e+05</td>\n",
       "    </tr>\n",
       "    <tr>\n",
       "      <th>max</th>\n",
       "      <td>1.811598e+05</td>\n",
       "      <td>2.556451e+05</td>\n",
       "      <td>2.343636e+05</td>\n",
       "    </tr>\n",
       "    <tr>\n",
       "      <th rowspan=\"4\" valign=\"top\">Jumlah Kamar</th>\n",
       "      <th>mean</th>\n",
       "      <td>1.093776e+01</td>\n",
       "      <td>1.375808e+01</td>\n",
       "      <td>1.494334e+01</td>\n",
       "    </tr>\n",
       "    <tr>\n",
       "      <th>std</th>\n",
       "      <td>2.595924e+00</td>\n",
       "      <td>2.004645e+00</td>\n",
       "      <td>1.160457e+00</td>\n",
       "    </tr>\n",
       "    <tr>\n",
       "      <th>min</th>\n",
       "      <td>5.917107e+00</td>\n",
       "      <td>9.199374e+00</td>\n",
       "      <td>1.412277e+01</td>\n",
       "    </tr>\n",
       "    <tr>\n",
       "      <th>max</th>\n",
       "      <td>2.561071e+01</td>\n",
       "      <td>1.740504e+01</td>\n",
       "      <td>1.576391e+01</td>\n",
       "    </tr>\n",
       "    <tr>\n",
       "      <th rowspan=\"4\" valign=\"top\">Jumlah Kamar Mandi</th>\n",
       "      <th>mean</th>\n",
       "      <td>8.421968e+00</td>\n",
       "      <td>1.114463e+01</td>\n",
       "      <td>1.146052e+01</td>\n",
       "    </tr>\n",
       "    <tr>\n",
       "      <th>std</th>\n",
       "      <td>2.483147e+00</td>\n",
       "      <td>2.599878e+00</td>\n",
       "      <td>0.000000e+00</td>\n",
       "    </tr>\n",
       "    <tr>\n",
       "      <th>min</th>\n",
       "      <td>4.962233e+00</td>\n",
       "      <td>6.586804e+00</td>\n",
       "      <td>1.146052e+01</td>\n",
       "    </tr>\n",
       "    <tr>\n",
       "      <th>max</th>\n",
       "      <td>2.445709e+01</td>\n",
       "      <td>1.633423e+01</td>\n",
       "      <td>1.146052e+01</td>\n",
       "    </tr>\n",
       "    <tr>\n",
       "      <th rowspan=\"4\" valign=\"top\">Tingkat/Lantai</th>\n",
       "      <th>mean</th>\n",
       "      <td>2.768727e+00</td>\n",
       "      <td>2.826951e+00</td>\n",
       "      <td>2.601570e+00</td>\n",
       "    </tr>\n",
       "    <tr>\n",
       "      <th>std</th>\n",
       "      <td>2.476656e-01</td>\n",
       "      <td>3.194474e-01</td>\n",
       "      <td>3.585789e-01</td>\n",
       "    </tr>\n",
       "    <tr>\n",
       "      <th>min</th>\n",
       "      <td>2.348016e+00</td>\n",
       "      <td>2.348016e+00</td>\n",
       "      <td>2.348016e+00</td>\n",
       "    </tr>\n",
       "    <tr>\n",
       "      <th>max</th>\n",
       "      <td>3.869338e+00</td>\n",
       "      <td>3.362230e+00</td>\n",
       "      <td>2.855123e+00</td>\n",
       "    </tr>\n",
       "    <tr>\n",
       "      <th rowspan=\"4\" valign=\"top\">Harga Penawaran (dari Owner)</th>\n",
       "      <th>mean</th>\n",
       "      <td>2.339862e+19</td>\n",
       "      <td>1.443045e+20</td>\n",
       "      <td>6.513875e+20</td>\n",
       "    </tr>\n",
       "    <tr>\n",
       "      <th>std</th>\n",
       "      <td>1.709760e+19</td>\n",
       "      <td>5.628604e+19</td>\n",
       "      <td>2.405684e+20</td>\n",
       "    </tr>\n",
       "    <tr>\n",
       "      <th>min</th>\n",
       "      <td>1.327669e+18</td>\n",
       "      <td>8.712827e+19</td>\n",
       "      <td>4.812800e+20</td>\n",
       "    </tr>\n",
       "    <tr>\n",
       "      <th>max</th>\n",
       "      <td>7.883034e+19</td>\n",
       "      <td>3.319171e+20</td>\n",
       "      <td>8.214951e+20</td>\n",
       "    </tr>\n",
       "    <tr>\n",
       "      <th rowspan=\"4\" valign=\"top\">Terjual/Belum</th>\n",
       "      <th>mean</th>\n",
       "      <td>0.000000e+00</td>\n",
       "      <td>0.000000e+00</td>\n",
       "      <td>0.000000e+00</td>\n",
       "    </tr>\n",
       "    <tr>\n",
       "      <th>std</th>\n",
       "      <td>0.000000e+00</td>\n",
       "      <td>0.000000e+00</td>\n",
       "      <td>0.000000e+00</td>\n",
       "    </tr>\n",
       "    <tr>\n",
       "      <th>min</th>\n",
       "      <td>0.000000e+00</td>\n",
       "      <td>0.000000e+00</td>\n",
       "      <td>0.000000e+00</td>\n",
       "    </tr>\n",
       "    <tr>\n",
       "      <th>max</th>\n",
       "      <td>0.000000e+00</td>\n",
       "      <td>0.000000e+00</td>\n",
       "      <td>0.000000e+00</td>\n",
       "    </tr>\n",
       "    <tr>\n",
       "      <th rowspan=\"4\" valign=\"top\">Arah Hadap Rumah</th>\n",
       "      <th>mean</th>\n",
       "      <td>4.324712e+00</td>\n",
       "      <td>4.367706e+00</td>\n",
       "      <td>3.666722e+00</td>\n",
       "    </tr>\n",
       "    <tr>\n",
       "      <th>std</th>\n",
       "      <td>1.020193e+00</td>\n",
       "      <td>9.895944e-01</td>\n",
       "      <td>2.141296e+00</td>\n",
       "    </tr>\n",
       "    <tr>\n",
       "      <th>min</th>\n",
       "      <td>2.152597e+00</td>\n",
       "      <td>2.152597e+00</td>\n",
       "      <td>2.152597e+00</td>\n",
       "    </tr>\n",
       "    <tr>\n",
       "      <th>max</th>\n",
       "      <td>5.180847e+00</td>\n",
       "      <td>5.180847e+00</td>\n",
       "      <td>5.180847e+00</td>\n",
       "    </tr>\n",
       "    <tr>\n",
       "      <th rowspan=\"4\" valign=\"top\">Posisi Rumah</th>\n",
       "      <th>mean</th>\n",
       "      <td>2.856350e+00</td>\n",
       "      <td>2.862680e+00</td>\n",
       "      <td>3.020930e+00</td>\n",
       "    </tr>\n",
       "    <tr>\n",
       "      <th>std</th>\n",
       "      <td>1.285154e-01</td>\n",
       "      <td>2.292329e-01</td>\n",
       "      <td>2.685597e-01</td>\n",
       "    </tr>\n",
       "    <tr>\n",
       "      <th>min</th>\n",
       "      <td>2.071429e+00</td>\n",
       "      <td>2.071429e+00</td>\n",
       "      <td>2.831030e+00</td>\n",
       "    </tr>\n",
       "    <tr>\n",
       "      <th>max</th>\n",
       "      <td>3.590632e+00</td>\n",
       "      <td>3.590632e+00</td>\n",
       "      <td>3.210831e+00</td>\n",
       "    </tr>\n",
       "    <tr>\n",
       "      <th rowspan=\"4\" valign=\"top\">Lebar Jalan Depan Rumah (ROW)</th>\n",
       "      <th>mean</th>\n",
       "      <td>1.507463e+00</td>\n",
       "      <td>1.797696e+00</td>\n",
       "      <td>1.744605e+00</td>\n",
       "    </tr>\n",
       "    <tr>\n",
       "      <th>std</th>\n",
       "      <td>9.033658e-01</td>\n",
       "      <td>9.677027e-01</td>\n",
       "      <td>1.351484e+00</td>\n",
       "    </tr>\n",
       "    <tr>\n",
       "      <th>min</th>\n",
       "      <td>7.889610e-01</td>\n",
       "      <td>7.889610e-01</td>\n",
       "      <td>7.889610e-01</td>\n",
       "    </tr>\n",
       "    <tr>\n",
       "      <th>max</th>\n",
       "      <td>2.700248e+00</td>\n",
       "      <td>2.700248e+00</td>\n",
       "      <td>2.700248e+00</td>\n",
       "    </tr>\n",
       "  </tbody>\n",
       "</table>\n",
       "</div>"
      ],
      "text/plain": [
       "cluster                                        0             1             2\n",
       "Area Category                 mean  3.981035e+00  3.896113e+00  4.672840e+00\n",
       "                              std   1.290690e+00  9.572961e-01  7.908894e-01\n",
       "                              min   1.876623e+00  1.876623e+00  4.113596e+00\n",
       "                              max   5.232083e+00  5.232083e+00  5.232083e+00\n",
       "Luas Tanah (m2)               mean  3.490921e+04  1.229533e+05  1.513471e+05\n",
       "                              std   2.305966e+04  5.188636e+04  4.274324e+04\n",
       "                              min   3.047861e+03  3.649579e+04  1.211231e+05\n",
       "                              max   1.714965e+05  3.147584e+05  1.815711e+05\n",
       "Luas Bangunan (m2)            mean  4.595815e+04  1.331049e+05  1.811598e+05\n",
       "                              std   3.092338e+04  5.254142e+04  7.524160e+04\n",
       "                              min   3.246104e+03  5.134238e+04  1.279559e+05\n",
       "                              max   1.811598e+05  2.556451e+05  2.343636e+05\n",
       "Jumlah Kamar                  mean  1.093776e+01  1.375808e+01  1.494334e+01\n",
       "                              std   2.595924e+00  2.004645e+00  1.160457e+00\n",
       "                              min   5.917107e+00  9.199374e+00  1.412277e+01\n",
       "                              max   2.561071e+01  1.740504e+01  1.576391e+01\n",
       "Jumlah Kamar Mandi            mean  8.421968e+00  1.114463e+01  1.146052e+01\n",
       "                              std   2.483147e+00  2.599878e+00  0.000000e+00\n",
       "                              min   4.962233e+00  6.586804e+00  1.146052e+01\n",
       "                              max   2.445709e+01  1.633423e+01  1.146052e+01\n",
       "Tingkat/Lantai                mean  2.768727e+00  2.826951e+00  2.601570e+00\n",
       "                              std   2.476656e-01  3.194474e-01  3.585789e-01\n",
       "                              min   2.348016e+00  2.348016e+00  2.348016e+00\n",
       "                              max   3.869338e+00  3.362230e+00  2.855123e+00\n",
       "Harga Penawaran (dari Owner)  mean  2.339862e+19  1.443045e+20  6.513875e+20\n",
       "                              std   1.709760e+19  5.628604e+19  2.405684e+20\n",
       "                              min   1.327669e+18  8.712827e+19  4.812800e+20\n",
       "                              max   7.883034e+19  3.319171e+20  8.214951e+20\n",
       "Terjual/Belum                 mean  0.000000e+00  0.000000e+00  0.000000e+00\n",
       "                              std   0.000000e+00  0.000000e+00  0.000000e+00\n",
       "                              min   0.000000e+00  0.000000e+00  0.000000e+00\n",
       "                              max   0.000000e+00  0.000000e+00  0.000000e+00\n",
       "Arah Hadap Rumah              mean  4.324712e+00  4.367706e+00  3.666722e+00\n",
       "                              std   1.020193e+00  9.895944e-01  2.141296e+00\n",
       "                              min   2.152597e+00  2.152597e+00  2.152597e+00\n",
       "                              max   5.180847e+00  5.180847e+00  5.180847e+00\n",
       "Posisi Rumah                  mean  2.856350e+00  2.862680e+00  3.020930e+00\n",
       "                              std   1.285154e-01  2.292329e-01  2.685597e-01\n",
       "                              min   2.071429e+00  2.071429e+00  2.831030e+00\n",
       "                              max   3.590632e+00  3.590632e+00  3.210831e+00\n",
       "Lebar Jalan Depan Rumah (ROW) mean  1.507463e+00  1.797696e+00  1.744605e+00\n",
       "                              std   9.033658e-01  9.677027e-01  1.351484e+00\n",
       "                              min   7.889610e-01  7.889610e-01  7.889610e-01\n",
       "                              max   2.700248e+00  2.700248e+00  2.700248e+00"
      ]
     },
     "execution_count": 88,
     "metadata": {},
     "output_type": "execute_result"
    }
   ],
   "source": [
    "# aggregation\n",
    "cluster_summary = df_inv.groupby(y_pred).agg(\n",
    "    {\n",
    "        'Area Category': ['mean', 'std', 'min', 'max'],\n",
    "        'Luas Tanah (m2)': ['mean', 'std', 'min', 'max'],\n",
    "        'Luas Bangunan (m2)': ['mean', 'std', 'min', 'max'],\n",
    "        'Jumlah Kamar': ['mean', 'std', 'min', 'max'],\n",
    "        'Jumlah Kamar Mandi': ['mean', 'std', 'min', 'max'],\n",
    "        'Tingkat/Lantai': ['mean', 'std', 'min', 'max'],\n",
    "        'Harga Penawaran (dari Owner)': ['mean', 'std', 'min', 'max'],\n",
    "        'Terjual/Belum': ['mean', 'std', 'min', 'max'],\n",
    "        'Arah Hadap Rumah': ['mean', 'std', 'min', 'max'],\n",
    "        'Posisi Rumah': ['mean', 'std', 'min', 'max'],\n",
    "        'Lebar Jalan Depan Rumah (ROW)': ['mean', 'std', 'min', 'max']\n",
    "    }\n",
    ")\n",
    "\n",
    "cluster_summary = cluster_summary.rename_axis('cluster')\n",
    "\n",
    "cluster_summary = cluster_summary.transpose()\n",
    "\n",
    "cluster_summary"
   ]
  },
  {
   "cell_type": "code",
   "execution_count": 105,
   "metadata": {
    "colab": {
     "base_uri": "https://localhost:8080/",
     "height": 209
    },
    "id": "zkHim7jnHmqC",
    "outputId": "6f009956-524f-439d-de8c-2760ad503871"
   },
   "outputs": [
    {
     "data": {
      "text/plain": [
       "0    270\n",
       "1     36\n",
       "2      2\n",
       "Name: Cluster, dtype: int64"
      ]
     },
     "execution_count": 105,
     "metadata": {},
     "output_type": "execute_result"
    }
   ],
   "source": [
    "# count data from each cluster\n",
    "df_inv.Cluster.value_counts()"
   ]
  },
  {
   "cell_type": "code",
   "execution_count": 129,
   "metadata": {
    "id": "K2eeKnk4PNyU"
   },
   "outputs": [
    {
     "name": "stdout",
     "output_type": "stream",
     "text": [
      "Cluster 0 consists of large residential or commercial properties with expansive land and building areas, typically featuring a high number of rooms and bathrooms, and multiple floors. These properties are generally on larger plots of land and have higher offer prices.\n"
     ]
    }
   ],
   "source": [
    "# write down your interpretation from the cluster that you have been made\n",
    "print(\"Cluster 0 consists of large residential or commercial properties with expansive land and building areas, typically featuring a high number of rooms and bathrooms, and multiple floors. These properties are generally on larger plots of land and have higher offer prices.\")"
   ]
  },
  {
   "cell_type": "markdown",
   "metadata": {
    "id": "OZruhWh5BSt7"
   },
   "source": [
    "## Hierarchical Clustering\n",
    "Hierarchical clustering uses the agglomerative method."
   ]
  },
  {
   "cell_type": "code",
   "execution_count": 106,
   "metadata": {
    "colab": {
     "base_uri": "https://localhost:8080/",
     "height": 472
    },
    "id": "hLPZ-92ZKH9v",
    "outputId": "c1ca6d04-b34e-4c57-b91e-df4400352387"
   },
   "outputs": [
    {
     "data": {
      "image/png": "[encoded data removed]",
      "text/plain": [
       "<Figure size 640x480 with 1 Axes>"
      ]
     },
     "metadata": {},
     "output_type": "display_data"
    }
   ],
   "source": [
    "# The image below is not the final result, if yours looks different, that’s okay.\n",
    "silhouette_scores = []\n",
    "\n",
    "for i in range(2, 11):\n",
    "    cluster_labels = fcluster(linkage(df_imputed_inverse, method='ward'), i, criterion='maxclust')\n",
    "    silhouette_avg = silhouette_score(df_imputed_inverse, cluster_labels)\n",
    "    silhouette_scores.append(silhouette_avg)\n",
    "\n",
    "# Plot Silhouette Score = the higher the better\n",
    "plt.plot(range(2, 11), silhouette_scores, marker='o')\n",
    "plt.xlabel(\"Number of Clusters\")\n",
    "plt.ylabel(\"Silhouette Score\")\n",
    "plt.title(\"Silhouette Score\")\n",
    "plt.show()"
   ]
  },
  {
   "cell_type": "markdown",
   "metadata": {
    "id": "JPMw9jAiJRsE"
   },
   "source": [
    "Perform hierarchical clustering with the Euclidean distance metric and set the number of clusters based on silhouette score."
   ]
  },
  {
   "cell_type": "code",
   "execution_count": 49,
   "metadata": {
    "id": "-3Ep2nP0JYIw"
   },
   "outputs": [],
   "source": [
    "# agglomerative clustering\n",
    "from sklearn.cluster import AgglomerativeClustering\n",
    "hc = AgglomerativeClustering(n_clusters = 3, metric='euclidean', linkage='ward')\n",
    "y_hc = hc.fit_predict(df_imputed_inverse)"
   ]
  },
  {
   "cell_type": "code",
   "execution_count": 107,
   "metadata": {
    "colab": {
     "base_uri": "https://localhost:8080/",
     "height": 240
    },
    "id": "iNPihcv49JcE",
    "outputId": "bb181e5e-6c22-481d-b0fe-1bae17c1b4ec"
   },
   "outputs": [
    {
     "data": {
      "text/html": [
       "<div>\n",
       "<style scoped>\n",
       "    .dataframe tbody tr th:only-of-type {\n",
       "        vertical-align: middle;\n",
       "    }\n",
       "\n",
       "    .dataframe tbody tr th {\n",
       "        vertical-align: top;\n",
       "    }\n",
       "\n",
       "    .dataframe thead th {\n",
       "        text-align: right;\n",
       "    }\n",
       "</style>\n",
       "<table border=\"1\" class=\"dataframe\">\n",
       "  <thead>\n",
       "    <tr style=\"text-align: right;\">\n",
       "      <th></th>\n",
       "      <th>Area Category</th>\n",
       "      <th>Luas Tanah (m2)</th>\n",
       "      <th>Luas Bangunan (m2)</th>\n",
       "      <th>Jumlah Kamar</th>\n",
       "      <th>Jumlah Kamar Mandi</th>\n",
       "      <th>Tingkat/Lantai</th>\n",
       "      <th>Harga Penawaran (dari Owner)</th>\n",
       "      <th>Terjual/Belum</th>\n",
       "      <th>Arah Hadap Rumah</th>\n",
       "      <th>Posisi Rumah</th>\n",
       "      <th>Lebar Jalan Depan Rumah (ROW)</th>\n",
       "      <th>KMeans</th>\n",
       "      <th>Agglo</th>\n",
       "    </tr>\n",
       "  </thead>\n",
       "  <tbody>\n",
       "    <tr>\n",
       "      <th>0</th>\n",
       "      <td>5.232083</td>\n",
       "      <td>48585.403021</td>\n",
       "      <td>64111.300483</td>\n",
       "      <td>10.840508</td>\n",
       "      <td>8.211375</td>\n",
       "      <td>2.855123</td>\n",
       "      <td>2.904276e+19</td>\n",
       "      <td>0.0</td>\n",
       "      <td>5.180847</td>\n",
       "      <td>2.831030</td>\n",
       "      <td>0.788961</td>\n",
       "      <td>0</td>\n",
       "      <td>2</td>\n",
       "    </tr>\n",
       "    <tr>\n",
       "      <th>1</th>\n",
       "      <td>1.876623</td>\n",
       "      <td>6271.757764</td>\n",
       "      <td>13035.610746</td>\n",
       "      <td>7.558241</td>\n",
       "      <td>4.962233</td>\n",
       "      <td>2.855123</td>\n",
       "      <td>2.388136e+18</td>\n",
       "      <td>0.0</td>\n",
       "      <td>5.180847</td>\n",
       "      <td>2.831030</td>\n",
       "      <td>1.744605</td>\n",
       "      <td>0</td>\n",
       "      <td>2</td>\n",
       "    </tr>\n",
       "    <tr>\n",
       "      <th>2</th>\n",
       "      <td>5.232083</td>\n",
       "      <td>34480.854602</td>\n",
       "      <td>36445.301875</td>\n",
       "      <td>12.481641</td>\n",
       "      <td>9.835946</td>\n",
       "      <td>2.855123</td>\n",
       "      <td>2.240441e+19</td>\n",
       "      <td>0.0</td>\n",
       "      <td>3.162014</td>\n",
       "      <td>2.071429</td>\n",
       "      <td>0.788961</td>\n",
       "      <td>0</td>\n",
       "      <td>2</td>\n",
       "    </tr>\n",
       "    <tr>\n",
       "      <th>3</th>\n",
       "      <td>4.113596</td>\n",
       "      <td>37906.244932</td>\n",
       "      <td>53470.531788</td>\n",
       "      <td>12.481641</td>\n",
       "      <td>11.460517</td>\n",
       "      <td>2.855123</td>\n",
       "      <td>2.572358e+19</td>\n",
       "      <td>0.0</td>\n",
       "      <td>5.180847</td>\n",
       "      <td>2.831030</td>\n",
       "      <td>0.788961</td>\n",
       "      <td>0</td>\n",
       "      <td>2</td>\n",
       "    </tr>\n",
       "    <tr>\n",
       "      <th>4</th>\n",
       "      <td>2.995110</td>\n",
       "      <td>70749.693394</td>\n",
       "      <td>127955.912654</td>\n",
       "      <td>12.481641</td>\n",
       "      <td>11.460517</td>\n",
       "      <td>2.855123</td>\n",
       "      <td>4.148965e+19</td>\n",
       "      <td>0.0</td>\n",
       "      <td>2.152597</td>\n",
       "      <td>2.831030</td>\n",
       "      <td>0.788961</td>\n",
       "      <td>0</td>\n",
       "      <td>2</td>\n",
       "    </tr>\n",
       "  </tbody>\n",
       "</table>\n",
       "</div>"
      ],
      "text/plain": [
       "   Area Category  Luas Tanah (m2)  Luas Bangunan (m2)  Jumlah Kamar  \\\n",
       "0       5.232083     48585.403021        64111.300483     10.840508   \n",
       "1       1.876623      6271.757764        13035.610746      7.558241   \n",
       "2       5.232083     34480.854602        36445.301875     12.481641   \n",
       "3       4.113596     37906.244932        53470.531788     12.481641   \n",
       "4       2.995110     70749.693394       127955.912654     12.481641   \n",
       "\n",
       "   Jumlah Kamar Mandi  Tingkat/Lantai  Harga Penawaran (dari Owner)  \\\n",
       "0            8.211375        2.855123                  2.904276e+19   \n",
       "1            4.962233        2.855123                  2.388136e+18   \n",
       "2            9.835946        2.855123                  2.240441e+19   \n",
       "3           11.460517        2.855123                  2.572358e+19   \n",
       "4           11.460517        2.855123                  4.148965e+19   \n",
       "\n",
       "   Terjual/Belum  Arah Hadap Rumah  Posisi Rumah  \\\n",
       "0            0.0          5.180847      2.831030   \n",
       "1            0.0          5.180847      2.831030   \n",
       "2            0.0          3.162014      2.071429   \n",
       "3            0.0          5.180847      2.831030   \n",
       "4            0.0          2.152597      2.831030   \n",
       "\n",
       "   Lebar Jalan Depan Rumah (ROW)  KMeans  Agglo  \n",
       "0                       0.788961       0      2  \n",
       "1                       1.744605       0      2  \n",
       "2                       0.788961       0      2  \n",
       "3                       0.788961       0      2  \n",
       "4                       0.788961       0      2  "
      ]
     },
     "execution_count": 107,
     "metadata": {},
     "output_type": "execute_result"
    }
   ],
   "source": [
    "# Add the cluster labels to the original data that you have been added with kmeans so you have a full dataframe include kmeans and agglo clustering\n",
    "df_imputed_inversed = pd.DataFrame(sc.inverse_transform(df_imputed),columns=[\"Area Category\",\"Luas Tanah (m2)\",\"Luas Bangunan (m2)\",\"Jumlah Kamar\",\"Jumlah Kamar Mandi\",\"Tingkat/Lantai\",\"Harga Penawaran (dari Owner)\",\"Terjual/Belum\",\"Arah Hadap Rumah\",\"Posisi Rumah\",\"Lebar Jalan Depan Rumah (ROW)\"])\n",
    "\n",
    "df_imputed_inversed['KMeans'] = y_pred\n",
    "df_imputed_inversed['Agglo'] = y_hc\n",
    "\n",
    "# show the df\n",
    "df_imputed_inversed.head()"
   ]
  },
  {
   "cell_type": "markdown",
   "metadata": {
    "id": "lzXuHhs1JY72"
   },
   "source": [
    "Display the cluster summary in the form of a dataframe."
   ]
  },
  {
   "cell_type": "code",
   "execution_count": 108,
   "metadata": {
    "colab": {
     "base_uri": "https://localhost:8080/",
     "height": 206
    },
    "id": "7ZGhU79dNlXk",
    "outputId": "708fd945-2915-4497-8668-8ff867cfbf1c"
   },
   "outputs": [
    {
     "data": {
      "text/html": [
       "<div>\n",
       "<style scoped>\n",
       "    .dataframe tbody tr th:only-of-type {\n",
       "        vertical-align: middle;\n",
       "    }\n",
       "\n",
       "    .dataframe tbody tr th {\n",
       "        vertical-align: top;\n",
       "    }\n",
       "\n",
       "    .dataframe thead tr th {\n",
       "        text-align: left;\n",
       "    }\n",
       "\n",
       "    .dataframe thead tr:last-of-type th {\n",
       "        text-align: right;\n",
       "    }\n",
       "</style>\n",
       "<table border=\"1\" class=\"dataframe\">\n",
       "  <thead>\n",
       "    <tr>\n",
       "      <th></th>\n",
       "      <th colspan=\"4\" halign=\"left\">Area Category</th>\n",
       "      <th colspan=\"4\" halign=\"left\">Luas Tanah (m2)</th>\n",
       "      <th colspan=\"4\" halign=\"left\">Luas Bangunan (m2)</th>\n",
       "      <th colspan=\"4\" halign=\"left\">Jumlah Kamar</th>\n",
       "      <th colspan=\"4\" halign=\"left\">Tingkat/Lantai</th>\n",
       "    </tr>\n",
       "    <tr>\n",
       "      <th></th>\n",
       "      <th>mean</th>\n",
       "      <th>std</th>\n",
       "      <th>min</th>\n",
       "      <th>max</th>\n",
       "      <th>mean</th>\n",
       "      <th>std</th>\n",
       "      <th>min</th>\n",
       "      <th>max</th>\n",
       "      <th>mean</th>\n",
       "      <th>std</th>\n",
       "      <th>min</th>\n",
       "      <th>max</th>\n",
       "      <th>mean</th>\n",
       "      <th>std</th>\n",
       "      <th>min</th>\n",
       "      <th>max</th>\n",
       "      <th>mean</th>\n",
       "      <th>std</th>\n",
       "      <th>min</th>\n",
       "      <th>max</th>\n",
       "    </tr>\n",
       "    <tr>\n",
       "      <th>Agglo</th>\n",
       "      <th></th>\n",
       "      <th></th>\n",
       "      <th></th>\n",
       "      <th></th>\n",
       "      <th></th>\n",
       "      <th></th>\n",
       "      <th></th>\n",
       "      <th></th>\n",
       "      <th></th>\n",
       "      <th></th>\n",
       "      <th></th>\n",
       "      <th></th>\n",
       "      <th></th>\n",
       "      <th></th>\n",
       "      <th></th>\n",
       "      <th></th>\n",
       "      <th></th>\n",
       "      <th></th>\n",
       "      <th></th>\n",
       "      <th></th>\n",
       "    </tr>\n",
       "  </thead>\n",
       "  <tbody>\n",
       "    <tr>\n",
       "      <th>0</th>\n",
       "      <td>4.393218</td>\n",
       "      <td>0.559243</td>\n",
       "      <td>4.113596</td>\n",
       "      <td>5.232083</td>\n",
       "      <td>168725.931519</td>\n",
       "      <td>34267.481672</td>\n",
       "      <td>121123.080605</td>\n",
       "      <td>201720.500142</td>\n",
       "      <td>207761.677868</td>\n",
       "      <td>55969.499281</td>\n",
       "      <td>127955.912654</td>\n",
       "      <td>255645.136996</td>\n",
       "      <td>14.533058</td>\n",
       "      <td>1.571266</td>\n",
       "      <td>12.481641</td>\n",
       "      <td>15.763908</td>\n",
       "      <td>2.855123</td>\n",
       "      <td>0.414051</td>\n",
       "      <td>2.348016</td>\n",
       "      <td>3.362230</td>\n",
       "    </tr>\n",
       "    <tr>\n",
       "      <th>1</th>\n",
       "      <td>3.916216</td>\n",
       "      <td>0.993022</td>\n",
       "      <td>1.876623</td>\n",
       "      <td>5.232083</td>\n",
       "      <td>105821.423454</td>\n",
       "      <td>49280.748471</td>\n",
       "      <td>17152.409402</td>\n",
       "      <td>314758.381044</td>\n",
       "      <td>117198.304146</td>\n",
       "      <td>45838.422172</td>\n",
       "      <td>15163.764485</td>\n",
       "      <td>234363.599606</td>\n",
       "      <td>13.543551</td>\n",
       "      <td>2.245980</td>\n",
       "      <td>7.558241</td>\n",
       "      <td>17.405041</td>\n",
       "      <td>2.795464</td>\n",
       "      <td>0.280464</td>\n",
       "      <td>2.348016</td>\n",
       "      <td>3.362230</td>\n",
       "    </tr>\n",
       "    <tr>\n",
       "      <th>2</th>\n",
       "      <td>3.980969</td>\n",
       "      <td>1.307642</td>\n",
       "      <td>1.876623</td>\n",
       "      <td>5.232083</td>\n",
       "      <td>31947.451524</td>\n",
       "      <td>18900.116266</td>\n",
       "      <td>3047.860983</td>\n",
       "      <td>99966.257976</td>\n",
       "      <td>42508.437113</td>\n",
       "      <td>27346.717139</td>\n",
       "      <td>3246.103546</td>\n",
       "      <td>159878.218740</td>\n",
       "      <td>10.788614</td>\n",
       "      <td>2.527565</td>\n",
       "      <td>5.917107</td>\n",
       "      <td>25.610708</td>\n",
       "      <td>2.768935</td>\n",
       "      <td>0.250907</td>\n",
       "      <td>2.348016</td>\n",
       "      <td>3.869338</td>\n",
       "    </tr>\n",
       "  </tbody>\n",
       "</table>\n",
       "</div>"
      ],
      "text/plain": [
       "      Area Category                               Luas Tanah (m2)  \\\n",
       "               mean       std       min       max            mean   \n",
       "Agglo                                                               \n",
       "0          4.393218  0.559243  4.113596  5.232083   168725.931519   \n",
       "1          3.916216  0.993022  1.876623  5.232083   105821.423454   \n",
       "2          3.980969  1.307642  1.876623  5.232083    31947.451524   \n",
       "\n",
       "                                                  Luas Bangunan (m2)  \\\n",
       "                std            min            max               mean   \n",
       "Agglo                                                                  \n",
       "0      34267.481672  121123.080605  201720.500142      207761.677868   \n",
       "1      49280.748471   17152.409402  314758.381044      117198.304146   \n",
       "2      18900.116266    3047.860983   99966.257976       42508.437113   \n",
       "\n",
       "                                                  Jumlah Kamar            \\\n",
       "                std            min            max         mean       std   \n",
       "Agglo                                                                      \n",
       "0      55969.499281  127955.912654  255645.136996    14.533058  1.571266   \n",
       "1      45838.422172   15163.764485  234363.599606    13.543551  2.245980   \n",
       "2      27346.717139    3246.103546  159878.218740    10.788614  2.527565   \n",
       "\n",
       "                            Tingkat/Lantai                                \n",
       "             min        max           mean       std       min       max  \n",
       "Agglo                                                                     \n",
       "0      12.481641  15.763908       2.855123  0.414051  2.348016  3.362230  \n",
       "1       7.558241  17.405041       2.795464  0.280464  2.348016  3.362230  \n",
       "2       5.917107  25.610708       2.768935  0.250907  2.348016  3.869338  "
      ]
     },
     "execution_count": 108,
     "metadata": {},
     "output_type": "execute_result"
    }
   ],
   "source": [
    "cluster_summary = df_imputed_inversed.groupby(y_hc).agg(\n",
    "    {\n",
    "        'Area Category': ['mean', 'std', 'min', 'max'],\n",
    "        'Luas Tanah (m2)': ['mean', 'std', 'min', 'max'],\n",
    "        'Luas Bangunan (m2)': ['mean', 'std', 'min', 'max'],\n",
    "        'Jumlah Kamar': ['mean', 'std', 'min', 'max'],\n",
    "        'Tingkat/Lantai': ['mean', 'std', 'min', 'max'],\n",
    "    }\n",
    ")\n",
    "\n",
    "cluster_summary = cluster_summary.rename_axis('Agglo')\n",
    "\n",
    "cluster_summary"
   ]
  },
  {
   "cell_type": "code",
   "execution_count": 109,
   "metadata": {
    "colab": {
     "base_uri": "https://localhost:8080/",
     "height": 206
    },
    "id": "L95iG49xHiw-",
    "outputId": "a6ef6d5d-c3a5-4ebb-aa2f-e2544c39145e"
   },
   "outputs": [
    {
     "data": {
      "text/html": [
       "<div>\n",
       "<style scoped>\n",
       "    .dataframe tbody tr th:only-of-type {\n",
       "        vertical-align: middle;\n",
       "    }\n",
       "\n",
       "    .dataframe tbody tr th {\n",
       "        vertical-align: top;\n",
       "    }\n",
       "\n",
       "    .dataframe thead tr th {\n",
       "        text-align: left;\n",
       "    }\n",
       "\n",
       "    .dataframe thead tr:last-of-type th {\n",
       "        text-align: right;\n",
       "    }\n",
       "</style>\n",
       "<table border=\"1\" class=\"dataframe\">\n",
       "  <thead>\n",
       "    <tr>\n",
       "      <th></th>\n",
       "      <th colspan=\"4\" halign=\"left\">Harga Penawaran (dari Owner)</th>\n",
       "      <th colspan=\"4\" halign=\"left\">Terjual/Belum</th>\n",
       "      <th colspan=\"4\" halign=\"left\">Arah Hadap Rumah</th>\n",
       "      <th colspan=\"4\" halign=\"left\">Posisi Rumah</th>\n",
       "      <th colspan=\"4\" halign=\"left\">Lebar Jalan Depan Rumah (ROW)</th>\n",
       "    </tr>\n",
       "    <tr>\n",
       "      <th></th>\n",
       "      <th>mean</th>\n",
       "      <th>std</th>\n",
       "      <th>min</th>\n",
       "      <th>max</th>\n",
       "      <th>mean</th>\n",
       "      <th>std</th>\n",
       "      <th>min</th>\n",
       "      <th>max</th>\n",
       "      <th>mean</th>\n",
       "      <th>std</th>\n",
       "      <th>min</th>\n",
       "      <th>max</th>\n",
       "      <th>mean</th>\n",
       "      <th>std</th>\n",
       "      <th>min</th>\n",
       "      <th>max</th>\n",
       "      <th>mean</th>\n",
       "      <th>std</th>\n",
       "      <th>min</th>\n",
       "      <th>max</th>\n",
       "    </tr>\n",
       "    <tr>\n",
       "      <th>Agglo</th>\n",
       "      <th></th>\n",
       "      <th></th>\n",
       "      <th></th>\n",
       "      <th></th>\n",
       "      <th></th>\n",
       "      <th></th>\n",
       "      <th></th>\n",
       "      <th></th>\n",
       "      <th></th>\n",
       "      <th></th>\n",
       "      <th></th>\n",
       "      <th></th>\n",
       "      <th></th>\n",
       "      <th></th>\n",
       "      <th></th>\n",
       "      <th></th>\n",
       "      <th></th>\n",
       "      <th></th>\n",
       "      <th></th>\n",
       "      <th></th>\n",
       "    </tr>\n",
       "  </thead>\n",
       "  <tbody>\n",
       "    <tr>\n",
       "      <th>0</th>\n",
       "      <td>4.812799e+20</td>\n",
       "      <td>2.411640e+20</td>\n",
       "      <td>2.904276e+20</td>\n",
       "      <td>8.214951e+20</td>\n",
       "      <td>0.0</td>\n",
       "      <td>0.0</td>\n",
       "      <td>0.0</td>\n",
       "      <td>0.0</td>\n",
       "      <td>4.171431</td>\n",
       "      <td>1.427531</td>\n",
       "      <td>2.152597</td>\n",
       "      <td>5.180847</td>\n",
       "      <td>2.925980</td>\n",
       "      <td>0.189900</td>\n",
       "      <td>2.831030</td>\n",
       "      <td>3.210831</td>\n",
       "      <td>1.744605</td>\n",
       "      <td>1.103482</td>\n",
       "      <td>0.788961</td>\n",
       "      <td>2.700248</td>\n",
       "    </tr>\n",
       "    <tr>\n",
       "      <th>1</th>\n",
       "      <td>1.124542e+20</td>\n",
       "      <td>4.499939e+19</td>\n",
       "      <td>5.808551e+19</td>\n",
       "      <td>2.364910e+20</td>\n",
       "      <td>0.0</td>\n",
       "      <td>0.0</td>\n",
       "      <td>0.0</td>\n",
       "      <td>0.0</td>\n",
       "      <td>4.448525</td>\n",
       "      <td>0.990637</td>\n",
       "      <td>2.152597</td>\n",
       "      <td>5.180847</td>\n",
       "      <td>2.875713</td>\n",
       "      <td>0.210055</td>\n",
       "      <td>2.071429</td>\n",
       "      <td>3.590632</td>\n",
       "      <td>1.763343</td>\n",
       "      <td>0.964967</td>\n",
       "      <td>0.788961</td>\n",
       "      <td>2.700248</td>\n",
       "    </tr>\n",
       "    <tr>\n",
       "      <th>2</th>\n",
       "      <td>2.037581e+19</td>\n",
       "      <td>1.279467e+19</td>\n",
       "      <td>1.327669e+18</td>\n",
       "      <td>5.393655e+19</td>\n",
       "      <td>0.0</td>\n",
       "      <td>0.0</td>\n",
       "      <td>0.0</td>\n",
       "      <td>0.0</td>\n",
       "      <td>4.303094</td>\n",
       "      <td>1.022739</td>\n",
       "      <td>2.152597</td>\n",
       "      <td>5.180847</td>\n",
       "      <td>2.853548</td>\n",
       "      <td>0.126850</td>\n",
       "      <td>2.071429</td>\n",
       "      <td>3.590632</td>\n",
       "      <td>1.495306</td>\n",
       "      <td>0.898538</td>\n",
       "      <td>0.788961</td>\n",
       "      <td>2.700248</td>\n",
       "    </tr>\n",
       "  </tbody>\n",
       "</table>\n",
       "</div>"
      ],
      "text/plain": [
       "      Harga Penawaran (dari Owner)                                            \\\n",
       "                              mean           std           min           max   \n",
       "Agglo                                                                          \n",
       "0                     4.812799e+20  2.411640e+20  2.904276e+20  8.214951e+20   \n",
       "1                     1.124542e+20  4.499939e+19  5.808551e+19  2.364910e+20   \n",
       "2                     2.037581e+19  1.279467e+19  1.327669e+18  5.393655e+19   \n",
       "\n",
       "      Terjual/Belum                Arah Hadap Rumah                      \\\n",
       "               mean  std  min  max             mean       std       min   \n",
       "Agglo                                                                     \n",
       "0               0.0  0.0  0.0  0.0         4.171431  1.427531  2.152597   \n",
       "1               0.0  0.0  0.0  0.0         4.448525  0.990637  2.152597   \n",
       "2               0.0  0.0  0.0  0.0         4.303094  1.022739  2.152597   \n",
       "\n",
       "                Posisi Rumah                                \\\n",
       "            max         mean       std       min       max   \n",
       "Agglo                                                        \n",
       "0      5.180847     2.925980  0.189900  2.831030  3.210831   \n",
       "1      5.180847     2.875713  0.210055  2.071429  3.590632   \n",
       "2      5.180847     2.853548  0.126850  2.071429  3.590632   \n",
       "\n",
       "      Lebar Jalan Depan Rumah (ROW)                                \n",
       "                               mean       std       min       max  \n",
       "Agglo                                                              \n",
       "0                          1.744605  1.103482  0.788961  2.700248  \n",
       "1                          1.763343  0.964967  0.788961  2.700248  \n",
       "2                          1.495306  0.898538  0.788961  2.700248  "
      ]
     },
     "execution_count": 109,
     "metadata": {},
     "output_type": "execute_result"
    }
   ],
   "source": [
    "cluster_summary = df_imputed_inversed.groupby(y_hc).agg(\n",
    "    {\n",
    "        'Harga Penawaran (dari Owner)': ['mean', 'std', 'min', 'max'],\n",
    "        'Terjual/Belum': ['mean', 'std', 'min', 'max'],\n",
    "        'Arah Hadap Rumah': ['mean', 'std', 'min', 'max'],\n",
    "        'Posisi Rumah': ['mean', 'std', 'min', 'max'],\n",
    "        'Lebar Jalan Depan Rumah (ROW)': ['mean', 'std', 'min', 'max']\n",
    "    }\n",
    ")\n",
    "\n",
    "cluster_summary = cluster_summary.rename_axis('Agglo')\n",
    "\n",
    "cluster_summary"
   ]
  },
  {
   "cell_type": "code",
   "execution_count": 110,
   "metadata": {
    "colab": {
     "base_uri": "https://localhost:8080/",
     "height": 209
    },
    "id": "41xVNZP4IJIj",
    "outputId": "964873c1-6960-4e1a-fb1c-5651f9eea3be"
   },
   "outputs": [
    {
     "data": {
      "text/plain": [
       "2    253\n",
       "1     51\n",
       "0      4\n",
       "Name: Agglo, dtype: int64"
      ]
     },
     "execution_count": 110,
     "metadata": {},
     "output_type": "execute_result"
    }
   ],
   "source": [
    "df_imputed_inversed.Agglo.value_counts()"
   ]
  },
  {
   "cell_type": "code",
   "execution_count": 130,
   "metadata": {
    "id": "mDFCr5njP7Rf"
   },
   "outputs": [
    {
     "name": "stdout",
     "output_type": "stream",
     "text": [
      "Cluster 0 represents large residential or commercial properties with expansive land and building areas, multiple rooms, and higher prices, showing consistency across both KMeans and Agglomerative clustering.\n"
     ]
    }
   ],
   "source": [
    "# write down your interpretation from the cluster that you have been made\n",
    "print(\"Cluster 0 represents large residential or commercial properties with expansive land and building areas, multiple rooms, and higher prices, showing consistency across both KMeans and Agglomerative clustering.\")"
   ]
  },
  {
   "cell_type": "markdown",
   "metadata": {
    "id": "wU9hSggw_oQ1"
   },
   "source": [
    "**Hierarchical Visualization**"
   ]
  },
  {
   "cell_type": "markdown",
   "metadata": {
    "id": "6qpiPUi_qV19"
   },
   "source": [
    "Single Linkage"
   ]
  },
  {
   "cell_type": "code",
   "execution_count": 124,
   "metadata": {
    "colab": {
     "base_uri": "https://localhost:8080/",
     "height": 641
    },
    "id": "2r064c_9qLU9",
    "outputId": "e73c3418-638e-4b52-93eb-52efdd741eb1"
   },
   "outputs": [
    {
     "data": {
      "image/png": "[encoded data removed]",
      "text/plain": [
       "<Figure size 2000x700 with 1 Axes>"
      ]
     },
     "metadata": {},
     "output_type": "display_data"
    }
   ],
   "source": [
    "plt.figure(figsize=(20,7))\n",
    "linkage_data = linkage(scaled, method='single')\n",
    "dendrogram(linkage_data)\n",
    "plt.show()"
   ]
  },
  {
   "cell_type": "markdown",
   "metadata": {
    "id": "NLXusmjnqiKs"
   },
   "source": [
    "complete linkage"
   ]
  },
  {
   "cell_type": "code",
   "execution_count": 127,
   "metadata": {
    "colab": {
     "base_uri": "https://localhost:8080/",
     "height": 641
    },
    "id": "nY9cZ22PqmDv",
    "outputId": "8315f421-3b81-4f50-d411-6dc8b2dce796"
   },
   "outputs": [
    {
     "data": {
      "image/png": "[encoded data removed]",
      "text/plain": [
       "<Figure size 2000x700 with 1 Axes>"
      ]
     },
     "metadata": {},
     "output_type": "display_data"
    }
   ],
   "source": [
    "plt.figure(figsize=(20,7))\n",
    "linkage_data = linkage(scaled, method='complete')\n",
    "dendrogram(linkage_data)\n",
    "plt.show()"
   ]
  },
  {
   "cell_type": "markdown",
   "metadata": {
    "id": "KTzdIUgBqxlv"
   },
   "source": [
    "average linkage"
   ]
  },
  {
   "cell_type": "code",
   "execution_count": 128,
   "metadata": {
    "colab": {
     "base_uri": "https://localhost:8080/",
     "height": 641
    },
    "id": "SDVKBXKxq12g",
    "outputId": "565f3c45-6d8c-4e15-d710-b9d5e8111944"
   },
   "outputs": [
    {
     "data": {
      "image/png": "[encoded data removed]",
      "text/plain": [
       "<Figure size 2000x700 with 1 Axes>"
      ]
     },
     "metadata": {},
     "output_type": "display_data"
    }
   ],
   "source": [
    "plt.figure(figsize=(20,7))\n",
    "linkage_data = linkage(scaled, method='average')\n",
    "dendrogram(linkage_data)\n",
    "plt.show()"
   ]
  },
  {
   "cell_type": "markdown",
   "metadata": {
    "id": "Dh9oOv59q9E5"
   },
   "source": [
    "ward method"
   ]
  },
  {
   "cell_type": "code",
   "execution_count": 123,
   "metadata": {
    "colab": {
     "base_uri": "https://localhost:8080/",
     "height": 641
    },
    "id": "6315xN-arAp9",
    "outputId": "bc158e2d-6d1b-403e-f14b-72d2bd26cddf"
   },
   "outputs": [
    {
     "data": {
      "image/png": "[encoded data removed]",
      "text/plain": [
       "<Figure size 2000x700 with 1 Axes>"
      ]
     },
     "metadata": {},
     "output_type": "display_data"
    }
   ],
   "source": [
    "plt.figure(figsize=(20,7))\n",
    "linkage_data = linkage(scaled, method='ward')\n",
    "dendrogram(linkage_data)\n",
    "plt.show()"
   ]
  }
 ],
 "metadata": {
  "colab": {
   "provenance": []
  },
  "kernelspec": {
   "display_name": "Python 3 (ipykernel)",
   "language": "python",
   "name": "python3"
  },
  "language_info": {
   "codemirror_mode": {
    "name": "ipython",
    "version": 3
   },
   "file_extension": ".py",
   "mimetype": "text/x-python",
   "name": "python",
   "nbconvert_exporter": "python",
   "pygments_lexer": "ipython3",
   "version": "3.11.4"
  }
 },
 "nbformat": 4,
 "nbformat_minor": 1
}
